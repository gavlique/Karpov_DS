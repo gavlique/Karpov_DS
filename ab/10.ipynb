{
 "cells": [
  {
   "cell_type": "markdown",
   "id": "98c0f9bc-90ff-48e9-8bcc-0ba320f91d4d",
   "metadata": {},
   "source": [
    "Попробуем применить CUPED на практике на синтетических данных (на реальных, конечно, эффект будет не таким большим).\n",
    "\n",
    "Воспользуйтесь кодом для генерации данных:\n",
    "\n",
    "```python\n",
    "users_num = 10000\n",
    "\n",
    "df = pd.DataFrame()\n",
    "df['user'] = range(users_num)\n",
    "df['group'] = np.random.rand(users_num) < 0.5\n",
    "\n",
    "df['user_mean'] = np.random.lognormal(mean=np.log(1000), sigma=0.5, size=users_num)\n",
    "df['cost_before'] = np.abs(\n",
    "    df['user_mean'] + np.random.normal(0, 100, size=users_num)\n",
    ")\n",
    "df['cost'] = np.abs(\n",
    "    df['user_mean'] + np.random.normal(50, 100, size=users_num)\n",
    ")\n",
    "```\n",
    "\n",
    "В нём мы генерируем нашу метрику «трат» для 2-х групп пользователей так, что исходная привычка распределена логнормально, а в наших периодах до и во время эксперимента с некоторым нормальным отклонением от привычки каждого пользователя. При этом в тестовом периоде люди тратят больше.\n",
    "\n",
    "Примените к этим данным CUPED и посчитайте, во сколько раз уменьшилась дисперсия в вашей выборке."
   ]
  },
  {
   "cell_type": "code",
   "execution_count": 19,
   "id": "f4cab6ec-dd56-4604-b9ea-13f212aee79a",
   "metadata": {},
   "outputs": [],
   "source": [
    "import pandas as pd\n",
    "import numpy as np\n",
    "import hashlib"
   ]
  },
  {
   "cell_type": "code",
   "execution_count": 3,
   "id": "d04e3d0b-b147-400b-a305-df956ef5a5af",
   "metadata": {},
   "outputs": [],
   "source": [
    "users_num = 10000\n",
    "\n",
    "df = pd.DataFrame()\n",
    "df['user'] = range(users_num)\n",
    "df['group'] = np.random.rand(users_num) < 0.5\n",
    "\n",
    "df['user_mean'] = np.random.lognormal(mean=np.log(1000), sigma=0.5, size=users_num)\n",
    "df['cost_before'] = np.abs(\n",
    "    df['user_mean'] + np.random.normal(0, 100, size=users_num)\n",
    ")\n",
    "df['cost'] = np.abs(\n",
    "    df['user_mean'] + np.random.normal(50, 100, size=users_num)\n",
    ")"
   ]
  },
  {
   "cell_type": "code",
   "execution_count": 8,
   "id": "a442ec09-7fde-4611-af9c-5b54dada5484",
   "metadata": {},
   "outputs": [],
   "source": [
    "theta = np.cov(df.cost_before, df.cost)[0,1] / np.var(df.cost_before)"
   ]
  },
  {
   "cell_type": "code",
   "execution_count": 10,
   "id": "949a0396-0549-45da-8632-e475cd1eabf4",
   "metadata": {},
   "outputs": [],
   "source": [
    "df['cost_cuped'] = (df['cost'] - theta * (df.cost_before - np.mean(df.cost_before)))"
   ]
  },
  {
   "cell_type": "code",
   "execution_count": 12,
   "id": "e138bdf4-156a-4957-8c21-30fe55e8e590",
   "metadata": {},
   "outputs": [
    {
     "data": {
      "text/plain": [
       "19537.237703629653"
      ]
     },
     "execution_count": 12,
     "metadata": {},
     "output_type": "execute_result"
    }
   ],
   "source": [
    "np.var(df['cost_cuped'])"
   ]
  },
  {
   "cell_type": "code",
   "execution_count": 15,
   "id": "8570b43b-93e7-4238-93be-cf3767d8fce0",
   "metadata": {},
   "outputs": [
    {
     "data": {
      "text/plain": [
       "370644.0578628819"
      ]
     },
     "execution_count": 15,
     "metadata": {},
     "output_type": "execute_result"
    }
   ],
   "source": [
    "np.var(df['cost'])"
   ]
  },
  {
   "cell_type": "code",
   "execution_count": 16,
   "id": "dc8bd80c-00f2-4abd-9b3e-2468ce7a4839",
   "metadata": {},
   "outputs": [
    {
     "data": {
      "text/plain": [
       "18.971159766051432"
      ]
     },
     "execution_count": 16,
     "metadata": {},
     "output_type": "execute_result"
    }
   ],
   "source": [
    "np.var(df['cost']) / np.var(df['cost_cuped'])"
   ]
  },
  {
   "cell_type": "markdown",
   "id": "f9b3e7ed-4c2c-4c67-be27-a45c7a3df7e7",
   "metadata": {},
   "source": [
    "Давайте практиковаться в бакетном тестирование, а заодно проверим, как будет различаться дисперсия CTR в бакете, если считать её двумя способами. Сгенерируйте данные следующим кодом:\n",
    "\n",
    "```python\n",
    "np.random.seed(6)\n",
    "\n",
    "users_num = 10000\n",
    "mean_user_ctr = 0.2\n",
    "beta = 20\n",
    "alpha = mean_user_ctr * beta / (1 - mean_user_ctr)\n",
    "\n",
    "df = pd.DataFrame()\n",
    "df['user'] = range(users_num)\n",
    "df['group'] = np.random.rand(users_num) < 0.5\n",
    "\n",
    "df['base_user_ctr'] = np.random.beta(alpha, beta, size=users_num)\n",
    "df['views'] = np.random.lognormal(mean=1, sigma=1, size=users_num).astype(int) + 1\n",
    "df['clicks'] = np.random.binomial(df['views'], df['base_user_ctr'])\n",
    "```\n",
    "\n",
    "Сделайте переход к бакетам (возьмём 100 штук), с помощью md5 кэша с солью, применённой к айдишнику пользователя (от соли результат сильно различаться не будет, но можете взять 'my_salt').\n",
    "\n",
    "Далее посчитайте два вида CTR: групповой (на основе количества кликов и просмотров в бакете) и обычный средний CTR пользователей в бакете (это нужно, чтобы мы сравнивали выборки одинаковых длин). Посчитайте среднеквадратичное отклонение этих CTR и сравните по одной из групп значения между этими способами."
   ]
  },
  {
   "cell_type": "code",
   "execution_count": 18,
   "id": "000af787-812d-48ab-9006-b9c264a02e85",
   "metadata": {},
   "outputs": [],
   "source": [
    "np.random.seed(6)\n",
    "\n",
    "users_num = 10000\n",
    "mean_user_ctr = 0.2\n",
    "beta = 20\n",
    "alpha = mean_user_ctr * beta / (1 - mean_user_ctr)\n",
    "\n",
    "df = pd.DataFrame()\n",
    "df['user'] = range(users_num)\n",
    "df['group'] = np.random.rand(users_num) < 0.5\n",
    "\n",
    "df['base_user_ctr'] = np.random.beta(alpha, beta, size=users_num)\n",
    "df['views'] = np.random.lognormal(mean=1, sigma=1, size=users_num).astype(int) + 1\n",
    "df['clicks'] = np.random.binomial(df['views'], df['base_user_ctr'])"
   ]
  },
  {
   "cell_type": "code",
   "execution_count": 21,
   "id": "472397b1-412f-4aae-a6b1-7b870edf2c46",
   "metadata": {},
   "outputs": [],
   "source": [
    "df['bucket'] = df['user'].apply(lambda x: int(hashlib.md5((str(x) + 'my_salt').encode()).hexdigest(), 16) % 100)"
   ]
  },
  {
   "cell_type": "code",
   "execution_count": 36,
   "id": "360bf0aa-f1ba-4e92-88da-2b630a1a4931",
   "metadata": {},
   "outputs": [
    {
     "name": "stderr",
     "output_type": "stream",
     "text": [
      "/tmp/ipykernel_62/353203589.py:1: FutureWarning: Indexing with multiple keys (implicitly converted to a tuple of keys) will be deprecated, use a list instead.\n",
      "  group_ctr = df.groupby(['bucket', 'group'])['clicks', 'views'].sum()\n"
     ]
    }
   ],
   "source": [
    "group_ctr = df.groupby(['bucket', 'group'])['clicks', 'views'].sum()"
   ]
  },
  {
   "cell_type": "code",
   "execution_count": 37,
   "id": "76a82d53-e9fb-443e-a1ba-9f2492646d78",
   "metadata": {},
   "outputs": [],
   "source": [
    "group_ctr['ctr'] = group_ctr.clicks / group_ctr.views "
   ]
  },
  {
   "cell_type": "code",
   "execution_count": 38,
   "id": "ec8c49d6-ae3f-4711-aea5-86afdc94f237",
   "metadata": {},
   "outputs": [
    {
     "data": {
      "text/plain": [
       "0.027449422546377524"
      ]
     },
     "execution_count": 38,
     "metadata": {},
     "output_type": "execute_result"
    }
   ],
   "source": [
    "group_ctr.ctr.std()"
   ]
  },
  {
   "cell_type": "code",
   "execution_count": 31,
   "id": "9a7b18c0-0620-4d1b-9cfe-45b869a47b17",
   "metadata": {},
   "outputs": [],
   "source": [
    "df['ctr'] = group_ctr.clicks / group_ctr.views"
   ]
  },
  {
   "cell_type": "code",
   "execution_count": 39,
   "id": "8dda1832-3134-4b4b-b4e5-e77522e733c4",
   "metadata": {},
   "outputs": [
    {
     "data": {
      "text/plain": [
       "0.01734820521879646"
      ]
     },
     "execution_count": 39,
     "metadata": {},
     "output_type": "execute_result"
    }
   ],
   "source": [
    "df.groupby(['bucket', 'group'])['ctr'].mean().std()"
   ]
  },
  {
   "cell_type": "code",
   "execution_count": null,
   "id": "045c93a8-81bc-4ed0-bf0c-d08b5881acbb",
   "metadata": {},
   "outputs": [],
   "source": []
  }
 ],
 "metadata": {
  "kernelspec": {
   "display_name": "Python 3 (ipykernel)",
   "language": "python",
   "name": "python3"
  },
  "language_info": {
   "codemirror_mode": {
    "name": "ipython",
    "version": 3
   },
   "file_extension": ".py",
   "mimetype": "text/x-python",
   "name": "python",
   "nbconvert_exporter": "python",
   "pygments_lexer": "ipython3",
   "version": "3.8.10"
  }
 },
 "nbformat": 4,
 "nbformat_minor": 5
}
