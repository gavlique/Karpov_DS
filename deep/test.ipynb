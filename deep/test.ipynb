{
 "cells": [
  {
   "cell_type": "code",
   "execution_count": 1,
   "metadata": {},
   "outputs": [],
   "source": [
    "import torch\n",
    "from torch import nn, optim"
   ]
  },
  {
   "cell_type": "code",
   "execution_count": 2,
   "metadata": {},
   "outputs": [],
   "source": [
    "device = torch.device('cuda:0' if torch.cuda.is_available() else 'cpu')"
   ]
  },
  {
   "cell_type": "code",
   "execution_count": 3,
   "metadata": {},
   "outputs": [],
   "source": [
    "tensor = torch.tensor([15, 45, 54], device=device)"
   ]
  },
  {
   "cell_type": "code",
   "execution_count": 10,
   "metadata": {},
   "outputs": [],
   "source": [
    "tensor = tensor.to(torch.float16)\n"
   ]
  },
  {
   "cell_type": "code",
   "execution_count": 13,
   "metadata": {},
   "outputs": [],
   "source": [
    "def function01(tensor: torch.Tensor, count_over: str) -> torch.Tensor:\n",
    "    if count_over == 'columns':\n",
    "        result = tensor.mean(dim=1)\n",
    "    if count_over == 'rows':\n",
    "        result = tensor.mean(dim=0)\n",
    "    return result\n",
    "    "
   ]
  },
  {
   "cell_type": "code",
   "execution_count": 14,
   "metadata": {},
   "outputs": [
    {
     "data": {
      "text/plain": [
       "tensor(38., device='cuda:0', dtype=torch.float16)"
      ]
     },
     "execution_count": 14,
     "metadata": {},
     "output_type": "execute_result"
    }
   ],
   "source": [
    "function01(tensor, 'rows')"
   ]
  },
  {
   "cell_type": "code",
   "execution_count": 34,
   "metadata": {},
   "outputs": [],
   "source": [
    "n_features = 2\n",
    "n_objects = 300\n",
    "\n",
    "w_true = torch.randn(n_features)\n",
    "X = (torch.rand(n_objects, n_features) - 0.5) * 5\n",
    "Y = X @ w_true + torch.randn(n_objects) / 2"
   ]
  },
  {
   "cell_type": "code",
   "execution_count": 21,
   "metadata": {},
   "outputs": [
    {
     "data": {
      "text/plain": [
       "tensor([0.4359, 0.3109], requires_grad=True)"
      ]
     },
     "execution_count": 21,
     "metadata": {},
     "output_type": "execute_result"
    }
   ],
   "source": [
    "w_true"
   ]
  },
  {
   "cell_type": "code",
   "execution_count": 22,
   "metadata": {},
   "outputs": [],
   "source": [
    "# grad descent\n",
    "step = 1e-2"
   ]
  },
  {
   "cell_type": "code",
   "execution_count": 35,
   "metadata": {},
   "outputs": [],
   "source": [
    "def function02(tensor: torch.Tensor) -> torch.Tensor:\n",
    "    w = torch.rand(tensor.shape[1], requires_grad=True, dtype=torch.float32)\n",
    "    return w"
   ]
  },
  {
   "cell_type": "code",
   "execution_count": 38,
   "metadata": {},
   "outputs": [],
   "source": [
    "def function03(x: torch.Tensor, y: torch.Tensor):\n",
    "    step=1e-2\n",
    "    mse = 2\n",
    "    w = function02(x)\n",
    "    while (mse > 1):\n",
    "        y_pred = x @ w\n",
    "        mse = torch.mean((y - y_pred) ** 2)\n",
    "        print(mse)\n",
    "\n",
    "        mse.backward()\n",
    "\n",
    "        with torch.no_grad():\n",
    "            w += -w.grad * step\n",
    "            \n",
    "        w.grad.zero_()\n",
    "    return w"
   ]
  },
  {
   "cell_type": "code",
   "execution_count": 39,
   "metadata": {},
   "outputs": [
    {
     "name": "stdout",
     "output_type": "stream",
     "text": [
      "tensor(2.3769, grad_fn=<MeanBackward0>)\n"
     ]
    },
    {
     "ename": "RuntimeError",
     "evalue": "a leaf Variable that requires grad is being used in an in-place operation.",
     "output_type": "error",
     "traceback": [
      "\u001b[0;31m---------------------------------------------------------------------------\u001b[0m",
      "\u001b[0;31mRuntimeError\u001b[0m                              Traceback (most recent call last)",
      "\u001b[0;32m/tmp/ipykernel_64/2513310751.py\u001b[0m in \u001b[0;36m<module>\u001b[0;34m\u001b[0m\n\u001b[0;32m----> 1\u001b[0;31m \u001b[0mfunction03\u001b[0m\u001b[0;34m(\u001b[0m\u001b[0mX\u001b[0m\u001b[0;34m,\u001b[0m \u001b[0mY\u001b[0m\u001b[0;34m)\u001b[0m\u001b[0;34m\u001b[0m\u001b[0;34m\u001b[0m\u001b[0m\n\u001b[0m",
      "\u001b[0;32m/tmp/ipykernel_64/3428204903.py\u001b[0m in \u001b[0;36mfunction03\u001b[0;34m(x, y)\u001b[0m\n\u001b[1;32m     10\u001b[0m         \u001b[0mmse\u001b[0m\u001b[0;34m.\u001b[0m\u001b[0mbackward\u001b[0m\u001b[0;34m(\u001b[0m\u001b[0;34m)\u001b[0m\u001b[0;34m\u001b[0m\u001b[0;34m\u001b[0m\u001b[0m\n\u001b[1;32m     11\u001b[0m \u001b[0;34m\u001b[0m\u001b[0m\n\u001b[0;32m---> 12\u001b[0;31m         \u001b[0mw\u001b[0m \u001b[0;34m+=\u001b[0m \u001b[0;34m-\u001b[0m\u001b[0mw\u001b[0m\u001b[0;34m.\u001b[0m\u001b[0mgrad\u001b[0m \u001b[0;34m*\u001b[0m \u001b[0mstep\u001b[0m\u001b[0;34m\u001b[0m\u001b[0;34m\u001b[0m\u001b[0m\n\u001b[0m\u001b[1;32m     13\u001b[0m \u001b[0;34m\u001b[0m\u001b[0m\n\u001b[1;32m     14\u001b[0m         \u001b[0mw\u001b[0m\u001b[0;34m.\u001b[0m\u001b[0mgrad\u001b[0m\u001b[0;34m.\u001b[0m\u001b[0mzero_\u001b[0m\u001b[0;34m(\u001b[0m\u001b[0;34m)\u001b[0m\u001b[0;34m\u001b[0m\u001b[0;34m\u001b[0m\u001b[0m\n",
      "\u001b[0;31mRuntimeError\u001b[0m: a leaf Variable that requires grad is being used in an in-place operation."
     ]
    }
   ],
   "source": [
    "function03(X, Y)"
   ]
  },
  {
   "cell_type": "code",
   "execution_count": 28,
   "metadata": {},
   "outputs": [
    {
     "ename": "AttributeError",
     "evalue": "'Tensor' object has no attribute 'backwards'",
     "output_type": "error",
     "traceback": [
      "\u001b[0;31m---------------------------------------------------------------------------\u001b[0m",
      "\u001b[0;31mAttributeError\u001b[0m                            Traceback (most recent call last)",
      "\u001b[0;32m/tmp/ipykernel_64/4120314438.py\u001b[0m in \u001b[0;36m<module>\u001b[0;34m\u001b[0m\n\u001b[1;32m      3\u001b[0m \u001b[0mmse\u001b[0m \u001b[0;34m=\u001b[0m \u001b[0mtorch\u001b[0m\u001b[0;34m.\u001b[0m\u001b[0mmean\u001b[0m\u001b[0;34m(\u001b[0m\u001b[0;34m(\u001b[0m\u001b[0mY\u001b[0m \u001b[0;34m-\u001b[0m \u001b[0my_pred\u001b[0m\u001b[0;34m)\u001b[0m \u001b[0;34m**\u001b[0m \u001b[0;36m2\u001b[0m\u001b[0;34m)\u001b[0m\u001b[0;34m\u001b[0m\u001b[0;34m\u001b[0m\u001b[0m\n\u001b[1;32m      4\u001b[0m \u001b[0;34m\u001b[0m\u001b[0m\n\u001b[0;32m----> 5\u001b[0;31m \u001b[0mmse\u001b[0m\u001b[0;34m.\u001b[0m\u001b[0mbackwards\u001b[0m\u001b[0;34m(\u001b[0m\u001b[0;34m)\u001b[0m\u001b[0;34m\u001b[0m\u001b[0;34m\u001b[0m\u001b[0m\n\u001b[0m\u001b[1;32m      6\u001b[0m \u001b[0;34m\u001b[0m\u001b[0m\n\u001b[1;32m      7\u001b[0m \u001b[0;32mwith\u001b[0m \u001b[0mtorch\u001b[0m\u001b[0;34m.\u001b[0m\u001b[0mno_grad\u001b[0m\u001b[0;34m(\u001b[0m\u001b[0;34m)\u001b[0m\u001b[0;34m:\u001b[0m\u001b[0;34m\u001b[0m\u001b[0;34m\u001b[0m\u001b[0m\n",
      "\u001b[0;31mAttributeError\u001b[0m: 'Tensor' object has no attribute 'backwards'"
     ]
    }
   ],
   "source": [
    "w = function02(X)\n",
    "y_pred = X @ w\n",
    "mse = torch.mean((Y - y_pred) ** 2)\n",
    "\n",
    "mse.backwards()\n",
    "\n",
    "with torch.no_grad():\n",
    "    w += -w.grad * step\n",
    "\n",
    "w.grad.zero_()"
   ]
  },
  {
   "cell_type": "code",
   "execution_count": 29,
   "metadata": {},
   "outputs": [
    {
     "data": {
      "text/plain": [
       "tensor(0.2413, grad_fn=<MeanBackward0>)"
      ]
     },
     "execution_count": 29,
     "metadata": {},
     "output_type": "execute_result"
    }
   ],
   "source": [
    "mse"
   ]
  },
  {
   "cell_type": "code",
   "execution_count": 63,
   "metadata": {},
   "outputs": [],
   "source": [
    "def function04(x: torch.Tensor, y: torch.Tensor):\n",
    "    step=1e-2\n",
    "    mse = 2\n",
    "    layer = nn.Linear(in_features = x.shape[1], out_features = 1)\n",
    "    while (mse > 0.3):\n",
    "        y_pred = layer(x).ravel()\n",
    "        mse = torch.mean((y - y_pred) ** 2)\n",
    "        print(mse)\n",
    "\n",
    "        mse.backward()\n",
    "\n",
    "        with torch.no_grad():\n",
    "            layer.weight += -layer.weight.grad * step\n",
    "            layer.bias += -layer.bias.grad * step\n",
    "            \n",
    "        layer.zero_grad()\n",
    "    return layer"
   ]
  },
  {
   "cell_type": "code",
   "execution_count": 64,
   "metadata": {},
   "outputs": [
    {
     "name": "stdout",
     "output_type": "stream",
     "text": [
      "tensor(0.5244, grad_fn=<MeanBackward0>)\n",
      "tensor(0.5087, grad_fn=<MeanBackward0>)\n",
      "tensor(0.4940, grad_fn=<MeanBackward0>)\n",
      "tensor(0.4803, grad_fn=<MeanBackward0>)\n",
      "tensor(0.4675, grad_fn=<MeanBackward0>)\n",
      "tensor(0.4556, grad_fn=<MeanBackward0>)\n",
      "tensor(0.4444, grad_fn=<MeanBackward0>)\n",
      "tensor(0.4340, grad_fn=<MeanBackward0>)\n",
      "tensor(0.4243, grad_fn=<MeanBackward0>)\n",
      "tensor(0.4153, grad_fn=<MeanBackward0>)\n",
      "tensor(0.4068, grad_fn=<MeanBackward0>)\n",
      "tensor(0.3988, grad_fn=<MeanBackward0>)\n",
      "tensor(0.3914, grad_fn=<MeanBackward0>)\n",
      "tensor(0.3844, grad_fn=<MeanBackward0>)\n",
      "tensor(0.3779, grad_fn=<MeanBackward0>)\n",
      "tensor(0.3718, grad_fn=<MeanBackward0>)\n",
      "tensor(0.3661, grad_fn=<MeanBackward0>)\n",
      "tensor(0.3607, grad_fn=<MeanBackward0>)\n",
      "tensor(0.3557, grad_fn=<MeanBackward0>)\n",
      "tensor(0.3509, grad_fn=<MeanBackward0>)\n",
      "tensor(0.3465, grad_fn=<MeanBackward0>)\n",
      "tensor(0.3423, grad_fn=<MeanBackward0>)\n",
      "tensor(0.3383, grad_fn=<MeanBackward0>)\n",
      "tensor(0.3346, grad_fn=<MeanBackward0>)\n",
      "tensor(0.3311, grad_fn=<MeanBackward0>)\n",
      "tensor(0.3279, grad_fn=<MeanBackward0>)\n",
      "tensor(0.3248, grad_fn=<MeanBackward0>)\n",
      "tensor(0.3218, grad_fn=<MeanBackward0>)\n",
      "tensor(0.3191, grad_fn=<MeanBackward0>)\n",
      "tensor(0.3165, grad_fn=<MeanBackward0>)\n",
      "tensor(0.3140, grad_fn=<MeanBackward0>)\n",
      "tensor(0.3117, grad_fn=<MeanBackward0>)\n",
      "tensor(0.3095, grad_fn=<MeanBackward0>)\n",
      "tensor(0.3075, grad_fn=<MeanBackward0>)\n",
      "tensor(0.3055, grad_fn=<MeanBackward0>)\n",
      "tensor(0.3037, grad_fn=<MeanBackward0>)\n",
      "tensor(0.3019, grad_fn=<MeanBackward0>)\n",
      "tensor(0.3003, grad_fn=<MeanBackward0>)\n",
      "tensor(0.2987, grad_fn=<MeanBackward0>)\n"
     ]
    },
    {
     "data": {
      "text/plain": [
       "Linear(in_features=2, out_features=1, bias=True)"
      ]
     },
     "execution_count": 64,
     "metadata": {},
     "output_type": "execute_result"
    }
   ],
   "source": [
    "function04(X, Y)"
   ]
  },
  {
   "cell_type": "code",
   "execution_count": 4,
   "metadata": {},
   "outputs": [],
   "source": [
    "def create_model():\n",
    "    return nn.Sequential(\n",
    "        nn.Linear(in_features = 100, out_features = 10),\n",
    "        nn.ReLU(),\n",
    "        nn.Linear(in_features = 10, out_features = 1)\n",
    "    )"
   ]
  },
  {
   "cell_type": "code",
   "execution_count": null,
   "metadata": {},
   "outputs": [],
   "source": [
    "def train(model: nn.Module, data_loader: DataLoader, optimizer: Optimizer, loss_fn):\n",
    "    model.train()\n",
    "    total_loss = 0\n",
    "    for x, y in data_loader:\n",
    "        optimizer.zero_grad() # zeroing gradients\n",
    "        output = model(x) # forward pass\n",
    "        loss = loss_fn(output, y) # count loss\n",
    "        total_loss += loss.item() # writing current loss\n",
    "        loss.backward() # backward pass\n",
    "        print(round(loss.item(), 5)) # print current loss\n",
    "        optimizer.step() # optimization step\n",
    "    return total_loss / len(data_loader)\n"
   ]
  },
  {
   "cell_type": "code",
   "execution_count": 1,
   "metadata": {},
   "outputs": [],
   "source": [
    "import importlib\n",
    "task3 = importlib.import_module(\"3 - ConvNets\")\n",
    "task2 = importlib.import_module(\"2 - NeuralOptim\")\n",
    "task4 = importlib.import_module(\"4 - RegularizeConvNet\")\n",
    "\n",
    "%load_ext autoreload\n",
    "%autoreload 2"
   ]
  },
  {
   "cell_type": "code",
   "execution_count": 2,
   "metadata": {},
   "outputs": [
    {
     "data": {
      "text/plain": [
       "Compose(\n",
       "    Resize(size=(224, 224), interpolation=bilinear, max_size=None, antialias=None)\n",
       "    RandAugment(num_ops=2, magnitude=9, num_magnitude_bins=31, interpolation=InterpolationMode.NEAREST, fill=None)\n",
       "    ToTensor()\n",
       "    Normalize(mean=[0.49139968 0.48215841 0.44653091], std=[0.24703223 0.24348513 0.26158784])\n",
       ")"
      ]
     },
     "execution_count": 2,
     "metadata": {},
     "output_type": "execute_result"
    }
   ],
   "source": [
    "task4.get_augmentations(train=True)"
   ]
  },
  {
   "cell_type": "code",
   "execution_count": 11,
   "metadata": {},
   "outputs": [],
   "source": [
    "import numpy as np"
   ]
  },
  {
   "cell_type": "code",
   "execution_count": null,
   "metadata": {},
   "outputs": [],
   "source": []
  }
 ],
 "metadata": {
  "kernelspec": {
   "display_name": "Python 3 (ipykernel)",
   "language": "python",
   "name": "python3"
  },
  "language_info": {
   "codemirror_mode": {
    "name": "ipython",
    "version": 3
   },
   "file_extension": ".py",
   "mimetype": "text/x-python",
   "name": "python",
   "nbconvert_exporter": "python",
   "pygments_lexer": "ipython3",
   "version": "3.8.8"
  },
  "vscode": {
   "interpreter": {
    "hash": "ad2bdc8ecc057115af97d19610ffacc2b4e99fae6737bb82f5d7fb13d2f2c186"
   }
  }
 },
 "nbformat": 4,
 "nbformat_minor": 4
}
