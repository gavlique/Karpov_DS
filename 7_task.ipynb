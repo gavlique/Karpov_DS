{
 "cells": [
  {
   "cell_type": "code",
   "execution_count": 1,
   "metadata": {},
   "outputs": [],
   "source": [
    "# task 1\n",
    "\n",
    "class Triangle:\n",
    "    n_dots = 3\n",
    "\n",
    "    def __init__(self, a, b, c):\n",
    "        self.a = a\n",
    "        self.b = b\n",
    "        self.c = c\n",
    "\n",
    "\n",
    "tr_1 = Triangle(3, 4, 5)\n",
    "tr_2 = Triangle(6, 8, 10)\n"
   ]
  },
  {
   "cell_type": "code",
   "execution_count": 5,
   "metadata": {},
   "outputs": [],
   "source": [
    "# task 2\n",
    "\n",
    "class Triangle:\n",
    "    n_dots = 3\n",
    "\n",
    "    def __init__(self, a, b, c):\n",
    "        self.a = a\n",
    "        self.b = b\n",
    "        self.c = c\n",
    "        # triangle inequality condition\n",
    "        for i in (a, b, c):\n",
    "            arr = [a, b, c]\n",
    "            arr.remove(i)\n",
    "            if i > sum(arr):\n",
    "                raise ValueError('triangle inequality does not hold')\n",
    "    \n",
    "    def area(self):\n",
    "        p = (self.a + self.b + self.c) / 2\n",
    "        return (p * (p - self.a) * (p - self.b) * (p - self.c)) ** 0.5\n",
    "\n",
    "\n",
    "\n",
    "tr_1 = Triangle(3, 4, 5)\n",
    "tr_2 = Triangle(6, 8, 10)\n",
    "\n",
    "square_1 = tr_1.area()\n",
    "square_2 = tr_2.area()\n"
   ]
  },
  {
   "cell_type": "code",
   "execution_count": 6,
   "metadata": {},
   "outputs": [],
   "source": [
    "# task 3\n",
    "\n",
    "class Rectangle(Triangle):\n",
    "    n_dots = 4\n",
    "\n",
    "    def __init__(self, a, b):\n",
    "        self.a = a\n",
    "        self.b = b\n",
    "    \n",
    "    def area(self):\n",
    "        return self.a * self.b"
   ]
  },
  {
   "cell_type": "code",
   "execution_count": 8,
   "metadata": {},
   "outputs": [],
   "source": [
    "# task 4\n",
    "\n",
    "class BaseFigure:\n",
    "    n_dots = None\n",
    "    def area(self):\n",
    "        raise NotImplementedError()\n",
    "    \n",
    "    def validate(self):\n",
    "        raise NotImplementedError()\n",
    "    \n",
    "    def __init__(self):\n",
    "        self.validate()"
   ]
  },
  {
   "cell_type": "code",
   "execution_count": 37,
   "metadata": {},
   "outputs": [],
   "source": [
    "# task 6\n",
    "\n",
    "class Triangle(BaseFigure):\n",
    "    n_dots = 3\n",
    "\n",
    "    def area(self):\n",
    "        p = (self.a + self.b + self.c) / 2\n",
    "        return (p * (p - self.a) * (p - self.b) * (p - self.c)) ** 0.5\n",
    "    \n",
    "    def validate(self):\n",
    "        for i in (self.a, self.b, self.c):\n",
    "            arr = [self.a, self.b, self.c]\n",
    "            arr.remove(i)\n",
    "            if i > sum(arr):\n",
    "                raise ValueError('triangle inequality does not hold')\n",
    "        return self.a, self.b, self.c\n",
    "    \n",
    "    def __init__(self, a, b, c):\n",
    "        self.a = a\n",
    "        self.b = b\n",
    "        self.c = c\n",
    "        super().__init__()\n",
    "\n",
    "\n",
    "class Rectangle(BaseFigure):\n",
    "    n_dots = 4\n",
    "    \n",
    "    def area(self):\n",
    "        return self.a * self.b\n",
    "    \n",
    "    def validate(self):\n",
    "        return self.a, self.b\n",
    "\n",
    "    def __init__(self, a, b):\n",
    "        self.a = a\n",
    "        self.b = b\n",
    "        super().__init__()\n",
    "\n",
    "\n",
    "    \n"
   ]
  },
  {
   "cell_type": "code",
   "execution_count": 41,
   "metadata": {},
   "outputs": [],
   "source": [
    "#  task 7\n",
    "\n",
    "class Circle(BaseFigure):\n",
    "    n_dots = float('inf')\n",
    "\n",
    "    def area(self):\n",
    "        return 3.14 * self.r ** 2\n",
    "    \n",
    "    def validate(self):\n",
    "        pass\n",
    "\n",
    "    def __init__(self, r):\n",
    "        self.r = r\n",
    "        super().__init__()\n"
   ]
  },
  {
   "cell_type": "code",
   "execution_count": 42,
   "metadata": {},
   "outputs": [
    {
     "ename": "SyntaxError",
     "evalue": "unexpected EOF while parsing (<ipython-input-42-8b1dce70d87f>, line 1)",
     "output_type": "error",
     "traceback": [
      "\u001b[1;36m  File \u001b[1;32m\"<ipython-input-42-8b1dce70d87f>\"\u001b[1;36m, line \u001b[1;32m1\u001b[0m\n\u001b[1;33m    class Vector():\u001b[0m\n\u001b[1;37m                   ^\u001b[0m\n\u001b[1;31mSyntaxError\u001b[0m\u001b[1;31m:\u001b[0m unexpected EOF while parsing\n"
     ]
    }
   ],
   "source": [
    "class Vector():\n",
    "    def __init__(self, coords):\n",
    "        self.coords = list(coords)\n",
    "    \n",
    "    def "
   ]
  },
  {
   "cell_type": "code",
   "execution_count": 43,
   "metadata": {},
   "outputs": [
    {
     "data": {
      "text/plain": [
       "[2, 3, 4]"
      ]
     },
     "execution_count": 43,
     "metadata": {},
     "output_type": "execute_result"
    }
   ],
   "source": []
  },
  {
   "cell_type": "code",
   "execution_count": null,
   "metadata": {},
   "outputs": [],
   "source": []
  }
 ],
 "metadata": {
  "kernelspec": {
   "display_name": "Python 3.8.8 ('base')",
   "language": "python",
   "name": "python3"
  },
  "language_info": {
   "codemirror_mode": {
    "name": "ipython",
    "version": 3
   },
   "file_extension": ".py",
   "mimetype": "text/x-python",
   "name": "python",
   "nbconvert_exporter": "python",
   "pygments_lexer": "ipython3",
   "version": "3.8.8"
  },
  "orig_nbformat": 4,
  "vscode": {
   "interpreter": {
    "hash": "ad2bdc8ecc057115af97d19610ffacc2b4e99fae6737bb82f5d7fb13d2f2c186"
   }
  }
 },
 "nbformat": 4,
 "nbformat_minor": 2
}
