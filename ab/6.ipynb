{
 "cells": [
  {
   "attachments": {},
   "cell_type": "markdown",
   "metadata": {},
   "source": [
    "# AB - Module 5"
   ]
  },
  {
   "attachments": {},
   "cell_type": "markdown",
   "metadata": {},
   "source": [
    "Не всегда метод максимума правдоподобия можно применить так, чтобы найти аналитическое решение, то есть формулу для поиска параметров распределения по выборке.\n",
    "\n",
    "Альтернативный вариант — использование методов оптимизации, в который можно подать оптимизируемый функционал и опционально его градиент, чтобы алгоритмы нашли для нас точку оптимума.\n",
    "\n",
    "Давайте попробуем это сделать. Снова вернёмся к известной нам выборке со средними ценами на дома:\n",
    "\n",
    "```python\n",
    "from sklearn.datasets import fetch_california_housing\n",
    "\n",
    "data = fetch_california_housing(as_frame=True, return_X_y=True)\n",
    "df, target = data[0], data[1] \n",
    "```\n",
    "\n",
    "Постройте гистограмму медианного дохода (MedInc), чтобы оценить, на какое распределение похожа эта случайная величина. На какое распределения более всего похоже наше распределение? Если вы не помните или не знаете какое-то из распределений, можете прочитать про него подробнее на Википедии и увидеть иллюстрации."
   ]
  },
  {
   "cell_type": "code",
   "execution_count": 1,
   "metadata": {},
   "outputs": [],
   "source": [
    "from sklearn.datasets import fetch_california_housing\n",
    "\n",
    "data = fetch_california_housing(as_frame=True, return_X_y=True)\n",
    "df, target = data[0], data[1] "
   ]
  },
  {
   "cell_type": "code",
   "execution_count": 2,
   "metadata": {},
   "outputs": [
    {
     "name": "stderr",
     "output_type": "stream",
     "text": [
      "c:\\ProgramData\\Anaconda3\\lib\\site-packages\\seaborn\\distributions.py:2557: FutureWarning: `distplot` is a deprecated function and will be removed in a future version. Please adapt your code to use either `displot` (a figure-level function with similar flexibility) or `histplot` (an axes-level function for histograms).\n",
      "  warnings.warn(msg, FutureWarning)\n"
     ]
    },
    {
     "data": {
      "text/plain": [
       "<Axes: xlabel='MedInc', ylabel='Density'>"
      ]
     },
     "execution_count": 2,
     "metadata": {},
     "output_type": "execute_result"
    },
    {
     "data": {
      "image/png": "[encoded data removed]",
      "text/plain": [
       "<Figure size 432x288 with 1 Axes>"
      ]
     },
     "metadata": {
      "needs_background": "light"
     },
     "output_type": "display_data"
    }
   ],
   "source": [
    "import seaborn as sns\n",
    "\n",
    "sns.distplot(df['MedInc'],bins=80,kde=True)"
   ]
  },
  {
   "attachments": {},
   "cell_type": "markdown",
   "metadata": {},
   "source": [
    "Кроме логнормального распределения сюда подходит ещё и гамма-распределение. Давайте найдём параметры распределения под нашу выборку. У него есть два основных параметра, хотя в версии из scipy вводят также сдвиг (loc). Мы его будем полагать равным 0 (тогда носитель распределение, то есть возможные значения — положительные числа), а другие два: a, scale — будем искать. \n",
    "\n",
    "Для этого сначала реализуйте функцию, которая будет вычислять логарифм правдоподобия для нашей выборки. Вам понадобится распределения gamma из библиотеки scipy. Функция должна принимать на вход один аргумент, в котором будут расположены все нужные вам параметры. \n",
    "\n",
    "Далее воспользуйтесь функцией minimize из модуля optimize библиотеки scipy. Там реализованы методы оптимизации. Укажите вашу функцию для вычисления логарифма правдоподобия, начальное значение ваших параметров и метод L-BFGS-B.\n",
    "\n",
    "В качестве начального приближения возьмите a=1, scale=2. Если становится сложно, то воспользуйтесь похожим примером из лекции. Имейте в виду, что здесь мы не указываем, как рассчитывается градиент и гессиан (вторая производная) для нашей функции, поэтому они будут рассчитываться численно, что обычно плохо сказывается на процессе оптимизации.\n",
    "\n",
    "Для проверки нарисуйте на одном графике гистограмму вашей случайной величины и плотность распределения с настроенными параметрами (метод pdf для расчёта плотности, а в качестве точек можно точки с равномерной сетки с помощью np.linspace). Должны получаться похожие картинки.\n",
    "\n",
    "Какие значения параметров вы получили?"
   ]
  },
  {
   "cell_type": "code",
   "execution_count": 10,
   "metadata": {},
   "outputs": [],
   "source": [
    "from scipy.stats import gamma\n",
    "from scipy.optimize import minimize\n",
    "import numpy as np"
   ]
  },
  {
   "cell_type": "code",
   "execution_count": 11,
   "metadata": {},
   "outputs": [],
   "source": [
    "def loglik(theta: tuple):\n",
    "    a, scale = theta\n",
    "    X = df['MedInc']\n",
    "    lpdf = gamma.logpdf(X, a=a, loc=0, scale=scale)\n",
    "\n",
    "    LL = np.sum(lpdf)\n",
    "\n",
    "    return(-LL)\n"
   ]
  },
  {
   "cell_type": "code",
   "execution_count": 12,
   "metadata": {},
   "outputs": [
    {
     "data": {
      "text/plain": [
       "  message: CONVERGENCE: REL_REDUCTION_OF_F_<=_FACTR*EPSMCH\n",
       "  success: True\n",
       "   status: 0\n",
       "      fun: 39616.8933401287\n",
       "        x: [ 4.749e+00  8.150e-01]\n",
       "      nit: 14\n",
       "      jac: [ 5.093e-03  2.692e-02]\n",
       "     nfev: 54\n",
       "     njev: 18\n",
       " hess_inv: <2x2 LbfgsInvHessProduct with dtype=float64>"
      ]
     },
     "execution_count": 12,
     "metadata": {},
     "output_type": "execute_result"
    }
   ],
   "source": [
    "minimize(fun=loglik, x0=(1, 2), method='L-BFGS-B')"
   ]
  },
  {
   "attachments": {},
   "cell_type": "markdown",
   "metadata": {},
   "source": [
    "Посчитайте ядерную оценку плотности в точке x=6 для медианного дохода с помощью sklearn.neighbors.KernelDensity с треугольным (линейным) ядром и h=0.5. Вам понадобятся методы fit (настройка) и score_samples (применение). Учтите, что вам вернутся логарифмы оценки, так что надо от них взять экспоненту."
   ]
  },
  {
   "cell_type": "code",
   "execution_count": 1,
   "metadata": {},
   "outputs": [],
   "source": [
    "from sklearn.neighbors import KernelDensity"
   ]
  },
  {
   "attachments": {},
   "cell_type": "markdown",
   "metadata": {},
   "source": []
  }
 ],
 "metadata": {
  "kernelspec": {
   "display_name": "base",
   "language": "python",
   "name": "python3"
  },
  "language_info": {
   "codemirror_mode": {
    "name": "ipython",
    "version": 3
   },
   "file_extension": ".py",
   "mimetype": "text/x-python",
   "name": "python",
   "nbconvert_exporter": "python",
   "pygments_lexer": "ipython3",
   "version": "3.8.8"
  },
  "orig_nbformat": 4
 },
 "nbformat": 4,
 "nbformat_minor": 2
}
