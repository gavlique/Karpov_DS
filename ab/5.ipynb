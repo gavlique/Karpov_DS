{
 "cells": [
  {
   "attachments": {},
   "cell_type": "markdown",
   "metadata": {},
   "source": [
    "# AB - Module 5"
   ]
  },
  {
   "attachments": {},
   "cell_type": "markdown",
   "metadata": {},
   "source": [
    "Однажды мы с вами сравнивали метрики между двумя моделями на одной и той же выборке. \n",
    "\n",
    "Чаще всего метрики по объектам представляют собой ненормальное распределение, поэтому лучше оценивать их различия непараметрическими статистическими критериями.\n",
    "\n",
    "Давайте попрактикумемся в этом. Возьмём уже привычный нам датасет со средними ценами на дома.\n",
    "\n",
    "Здесь мы ещё сделаем нормализацию фичей и зафиксируем разбиение.\n",
    "\n",
    "Далее обучите Ridge-регрессии из библиотеки sklearn с параметрами alpha=1 и alpha=10. Предсказания сделайте на всей выборке по фолдам с помощью функции cross_val_predict (по очереди каждый фолд будет становиться тестовым), не забудьте передать туда наше разбиение.\n",
    "\n",
    "Посчитайте MSE по каждому объекту выборки и сравните равенство их медиан с помощью критерия знаков. Сам критерий знаков реализуйте вручную, его нулевое распределение представляет собой биномиальное распределение, с котором мы уже работали ранее.\n",
    "\n",
    "Какой вывод вы можете сделать о различии этих моделей? Альтернатива двусторонняя, уровень значимости 0.05."
   ]
  },
  {
   "cell_type": "code",
   "execution_count": 3,
   "metadata": {},
   "outputs": [],
   "source": [
    "from sklearn.datasets import fetch_california_housing\n",
    "from sklearn.model_selection import cross_val_score\n",
    "from sklearn.model_selection import KFold\n",
    "from sklearn.preprocessing import StandardScaler\n",
    "\n",
    "data = fetch_california_housing(as_frame=True, return_X_y=True)\n",
    "df, target = data[0], data[1] \n",
    "df = StandardScaler().fit_transform(df)\n",
    "\n",
    "cv = KFold(n_splits=4, shuffle=True, random_state=6)"
   ]
  },
  {
   "cell_type": "code",
   "execution_count": 11,
   "metadata": {},
   "outputs": [],
   "source": [
    "from sklearn.linear_model import Ridge\n",
    "\n",
    "ridge_1 = Ridge(alpha=10)\n",
    "ridge_2 = Ridge(alpha=1)\n",
    "\n",
    "mses_1 = cross_val_score(ridge_1, df, target, cv=cv, scoring='neg_mean_squared_error')\n",
    "mses_2 = cross_val_score(ridge_2, df, target, cv=cv, scoring='neg_mean_squared_error')\n"
   ]
  },
  {
   "cell_type": "code",
   "execution_count": 13,
   "metadata": {},
   "outputs": [],
   "source": [
    "import numpy as np\n",
    "\n",
    "mses_1 = np.sort(np.abs(mses_1))\n",
    "mses_2 = np.sort(np.abs(mses_2))"
   ]
  },
  {
   "cell_type": "code",
   "execution_count": 14,
   "metadata": {},
   "outputs": [
    {
     "data": {
      "text/plain": [
       "array([ True,  True,  True, False])"
      ]
     },
     "execution_count": 14,
     "metadata": {},
     "output_type": "execute_result"
    }
   ],
   "source": [
    "mses_1 > mses_2"
   ]
  },
  {
   "cell_type": "code",
   "execution_count": 20,
   "metadata": {},
   "outputs": [
    {
     "data": {
      "text/plain": [
       "BinomTestResult(k=3, n=4, alternative='two-sided', statistic=0.75, pvalue=0.625)"
      ]
     },
     "execution_count": 20,
     "metadata": {},
     "output_type": "execute_result"
    }
   ],
   "source": [
    "from scipy.stats import binomtest\n",
    "\n",
    "binomtest(3, 4, 0.5) \n"
   ]
  },
  {
   "attachments": {},
   "cell_type": "markdown",
   "metadata": {},
   "source": [
    "В прошлом уроке мы сравнивали средние доходы (MedInc) между районами, где дома моложе 30 лет (включительно) и старше 30 лет (HouseAge). Однако тогда мы заметили, что случайная величина распределена не нормально.\n",
    "\n",
    "Давайте воспользуемся непараметрическими статистическими критериями, которые не делают предположений на вид распределения.\n",
    "\n",
    "Примените критерий Манна-Уитни-Уилкоксона к выборке и сравните, различаются ли распределения между выборками. Какой вывод вы можете сделать? Альтернатива двусторонняя."
   ]
  },
  {
   "cell_type": "code",
   "execution_count": 25,
   "metadata": {},
   "outputs": [
    {
     "data": {
      "text/plain": [
       "MannwhitneyuResult(statistic=44225886.0, pvalue=1.1132480655784223e-54)"
      ]
     },
     "execution_count": 25,
     "metadata": {},
     "output_type": "execute_result"
    }
   ],
   "source": [
    "from scipy.stats import mannwhitneyu\n",
    "\n",
    "data = fetch_california_housing(as_frame=True, return_X_y=True)\n",
    "df, target = data[0], data[1]\n",
    "\n",
    "first_sample = df[df['HouseAge'] > 30]['MedInc']\n",
    "second_sample = df[df['HouseAge'] < 30]['MedInc']\n",
    "\n",
    "mannwhitneyu(x=first_sample, y=second_sample, method='asymptotic')\n"
   ]
  },
  {
   "cell_type": "code",
   "execution_count": null,
   "metadata": {},
   "outputs": [],
   "source": []
  }
 ],
 "metadata": {
  "kernelspec": {
   "display_name": "base",
   "language": "python",
   "name": "python3"
  },
  "language_info": {
   "codemirror_mode": {
    "name": "ipython",
    "version": 3
   },
   "file_extension": ".py",
   "mimetype": "text/x-python",
   "name": "python",
   "nbconvert_exporter": "python",
   "pygments_lexer": "ipython3",
   "version": "3.8.8"
  },
  "orig_nbformat": 4
 },
 "nbformat": 4,
 "nbformat_minor": 2
}
