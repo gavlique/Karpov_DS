{
 "cells": [
  {
   "attachments": {},
   "cell_type": "markdown",
   "id": "b3e2a90e-db4a-4f0a-978c-9af0cc9501bf",
   "metadata": {},
   "source": [
    "Оцените минимальный размер выборки по формуле из лекции, если мы хотим иметь ошибку первого рода, равную 5%, мощность 90%, дисперсия нашей метрики равна 10, а эффект, который мы хотели бы детектировать, равен 0.5.\n",
    "\n",
    "При использовании формулы вы заметите, что для вычисления вам уже нужно знать размер выборки (как число степеней свободы распределения Стьюдента), однако от этого значения не зависит порядок вычисленного числа, поэтому можете попробовать подставить разные значения (в том числе ближе к тому, которое вы в итоге будете получать). Величину какого порядка вы получили? Заметим, что это размер одной из групп при условии, что группы в нашем эксперименте одинакового размера."
   ]
  },
  {
   "cell_type": "code",
   "execution_count": 3,
   "id": "c4cf5644-e18a-43ed-be93-54eec918fc33",
   "metadata": {},
   "outputs": [],
   "source": [
    "from scipy.stats import t\n",
    "import numpy as np\n",
    "\n",
    "alpha = 0.05\n",
    "beta = 0.9\n",
    "delta = 0.5\n",
    "sigma = np.sqrt(10)\n"
   ]
  },
  {
   "cell_type": "code",
   "execution_count": 5,
   "id": "4c5b0a3e-3016-420e-8de6-cf58f1b33605",
   "metadata": {},
   "outputs": [],
   "source": [
    "t_a = t.ppf(1 - alpha / 2, df=100)\n",
    "t_b = t.ppf(beta, df=100)"
   ]
  },
  {
   "cell_type": "code",
   "execution_count": 7,
   "id": "279b1891-2a61-4db3-9b02-884b6f7c81a2",
   "metadata": {},
   "outputs": [],
   "source": [
    "n = ((t_a + t_b) * sigma * np.sqrt(2)) ** 2 * 4"
   ]
  },
  {
   "cell_type": "code",
   "execution_count": null,
   "id": "758ac710-d4b4-4ba4-adb0-75f5918f2fe2",
   "metadata": {},
   "outputs": [],
   "source": []
  },
  {
   "cell_type": "code",
   "execution_count": 8,
   "id": "dc0c7eae-4100-4621-874f-9d5099289e13",
   "metadata": {},
   "outputs": [
    {
     "data": {
      "text/plain": [
       "857.5503233762824"
      ]
     },
     "execution_count": 8,
     "metadata": {},
     "output_type": "execute_result"
    }
   ],
   "source": [
    "n"
   ]
  },
  {
   "attachments": {},
   "cell_type": "markdown",
   "id": "6ea100f9-50d7-4ff2-8761-0dcac566dcc4",
   "metadata": {},
   "source": [
    "А теперь давайте попробуем оценить мощность с помощью симуляций, похожих на A/A эксперименты.\n",
    "\n",
    "Предположим, что мы оцениваем, сколько времени пользователи проводят при изучении нашего рекламного предложения (сколько времени проходит от открытия до закрытия веб-страницы). До запуска эксперимента мы бы хотели понимать, какую мощность нам стоит ожидать, если мы будем запускать эксперимент на неделю.\n",
    "\n",
    "Для этого аналогично процедуре проверки системы экспериментирования в A/A экспериментах реализуйте функцию, где будете генерировать две выборки из нормального распределения (предполагаем, что время распределено нормально со средним в контрольной группе 200 секунд и среднеквадратичным отклонением 30) одинакового размера (у нас 1000 пользователей в неделю, мы разбиваем их на 2 группы).\n",
    "\n",
    "Повторите процедуру «эксперимента» 1000-10000 раз, оцените, в каком проценте случаев мы будем детектировать изменение в метрике, если в тестовой группе среднее будет равно 205 секунд. Это и будет мощностью в нашем эксперименте. В качестве статистического критерия используйте t-критерий Стьюдента, альтернатива двусторонняя, уровень значимости 0.05."
   ]
  },
  {
   "cell_type": "code",
   "execution_count": 17,
   "id": "7798ff57-321c-47ce-9676-24a2bfb974ad",
   "metadata": {},
   "outputs": [
    {
     "data": {
      "text/plain": [
       "0.7414"
      ]
     },
     "execution_count": 17,
     "metadata": {},
     "output_type": "execute_result"
    }
   ],
   "source": [
    "from scipy.stats import ttest_ind, norm\n",
    "\n",
    "alpha = 0.05\n",
    "power = 5\n",
    "\n",
    "arr = []\n",
    "for i in range(10000):\n",
    "    data_1 = norm.rvs(loc=200, scale=30, size=500)\n",
    "    data_2 = norm.rvs(loc=205, scale=30, size=500)\n",
    "    arr.append(ttest_ind(data_1, data_2)[1])\n",
    "\n",
    "arr = np.array(arr)\n",
    "\n",
    "np.mean(np.array(arr) < 0.05)\n",
    "\n"
   ]
  },
  {
   "cell_type": "code",
   "execution_count": null,
   "id": "7c17de86",
   "metadata": {},
   "outputs": [],
   "source": []
  }
 ],
 "metadata": {
  "kernelspec": {
   "display_name": "Python 3 (ipykernel)",
   "language": "python",
   "name": "python3"
  },
  "language_info": {
   "codemirror_mode": {
    "name": "ipython",
    "version": 3
   },
   "file_extension": ".py",
   "mimetype": "text/x-python",
   "name": "python",
   "nbconvert_exporter": "python",
   "pygments_lexer": "ipython3",
   "version": "3.8.8"
  }
 },
 "nbformat": 4,
 "nbformat_minor": 5
}
