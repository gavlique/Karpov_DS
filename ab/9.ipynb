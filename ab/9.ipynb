{
 "cells": [
  {
   "cell_type": "markdown",
   "id": "4a34c487-5a2f-4692-a0da-2d27a2fcbb4c",
   "metadata": {},
   "source": [
    "Попробуем применить CUPED на практике на синтетических данных (на реальных, конечно, эффект будет не таким большим).\n",
    "\n",
    "Воспользуйтесь кодом для генерации данных:\n",
    "\n",
    "```python\n",
    "users_num = 10000\n",
    "\n",
    "df = pd.DataFrame()\n",
    "df['user'] = range(users_num)\n",
    "df['group'] = np.random.rand(users_num) < 0.5\n",
    "\n",
    "df['user_mean'] = np.random.lognormal(mean=np.log(1000), sigma=0.5, size=users_num)\n",
    "df['cost_before'] = np.abs(\n",
    "    df['user_mean'] + np.random.normal(0, 100, size=users_num)\n",
    ")\n",
    "df['cost'] = np.abs(\n",
    "    df['user_mean'] + np.random.normal(50, 100, size=users_num)\n",
    ")\n",
    "```\n",
    "\n",
    "В нём мы генерируем нашу метрику «трат» для 2-х групп пользователей так, что исходная привычка распределена логнормально, а в наших периодах до и во время эксперимента с некоторым нормальным отклонением от привычки каждого пользователя. При этом в тестовом периоде люди тратят больше.\n",
    "\n",
    "Примените к этим данным CUPED и посчитайте, во сколько раз уменьшилась дисперсия в вашей выборке."
   ]
  },
  {
   "cell_type": "code",
   "execution_count": null,
   "id": "28b61dcd-2199-4773-9a6f-99170cabcd49",
   "metadata": {},
   "outputs": [],
   "source": []
  }
 ],
 "metadata": {
  "kernelspec": {
   "display_name": "Python 3 (ipykernel)",
   "language": "python",
   "name": "python3"
  },
  "language_info": {
   "codemirror_mode": {
    "name": "ipython",
    "version": 3
   },
   "file_extension": ".py",
   "mimetype": "text/x-python",
   "name": "python",
   "nbconvert_exporter": "python",
   "pygments_lexer": "ipython3",
   "version": "3.8.10"
  }
 },
 "nbformat": 4,
 "nbformat_minor": 5
}
