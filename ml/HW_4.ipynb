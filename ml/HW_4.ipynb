{
 "cells": [
  {
   "cell_type": "markdown",
   "id": "482ba273",
   "metadata": {},
   "source": [
    "Реализуем градиентный спуск для задачи поиска оптимальных коэффициентов в MSE регрессии!"
   ]
  },
  {
   "cell_type": "code",
   "execution_count": 17,
   "id": "5166a641",
   "metadata": {},
   "outputs": [],
   "source": [
    "import numpy as np\n",
    "import pandas as pd\n",
    "import matplotlib.pyplot as plt"
   ]
  },
  {
   "cell_type": "markdown",
   "id": "b6558268",
   "metadata": {},
   "source": [
    "Имеем 1000 объектов и 10 признаков у каждого (+таргет)!\n",
    "\n",
    "Обучим модель линейной регрессии:\n",
    "\n",
    "$$\n",
    "a(x) = \\beta_1 d_{1} + \\beta_2 d_{2} + \\beta_3 d_{3} + \\beta_4 d_{4} + \\beta_5 d_{5} + \\beta_6 d_{6} + \\beta_7 d_{7} + \\beta_8 d_{8} + \\beta_9 d_{9} + \\beta_{10} d_{10} + \\beta_0\n",
    "$$\n",
    "\n",
    "Которая минимизирует MSE:\n",
    "\n",
    "$$\n",
    "Q(a(X), Y) = \\sum_i^{1000} (a(x_i) - y_i)^2\n",
    "$$"
   ]
  },
  {
   "cell_type": "code",
   "execution_count": 18,
   "id": "31e1289e",
   "metadata": {
    "tags": []
   },
   "outputs": [
    {
     "data": {
      "text/html": [
       "<div>\n",
       "<style scoped>\n",
       "    .dataframe tbody tr th:only-of-type {\n",
       "        vertical-align: middle;\n",
       "    }\n",
       "\n",
       "    .dataframe tbody tr th {\n",
       "        vertical-align: top;\n",
       "    }\n",
       "\n",
       "    .dataframe thead th {\n",
       "        text-align: right;\n",
       "    }\n",
       "</style>\n",
       "<table border=\"1\" class=\"dataframe\">\n",
       "  <thead>\n",
       "    <tr style=\"text-align: right;\">\n",
       "      <th></th>\n",
       "      <th>feature_1</th>\n",
       "      <th>feature_2</th>\n",
       "      <th>feature_3</th>\n",
       "      <th>feature_4</th>\n",
       "      <th>feature_5</th>\n",
       "      <th>feature_6</th>\n",
       "      <th>feature_7</th>\n",
       "      <th>feature_8</th>\n",
       "      <th>feature_9</th>\n",
       "      <th>feature_10</th>\n",
       "      <th>target</th>\n",
       "    </tr>\n",
       "  </thead>\n",
       "  <tbody>\n",
       "    <tr>\n",
       "      <th>0</th>\n",
       "      <td>0.113768</td>\n",
       "      <td>0.930064</td>\n",
       "      <td>0.330528</td>\n",
       "      <td>0.010987</td>\n",
       "      <td>0.265703</td>\n",
       "      <td>0.699462</td>\n",
       "      <td>0.058465</td>\n",
       "      <td>0.431643</td>\n",
       "      <td>0.650958</td>\n",
       "      <td>0.751820</td>\n",
       "      <td>30.147094</td>\n",
       "    </tr>\n",
       "    <tr>\n",
       "      <th>1</th>\n",
       "      <td>0.380048</td>\n",
       "      <td>0.485946</td>\n",
       "      <td>0.870232</td>\n",
       "      <td>0.473401</td>\n",
       "      <td>0.454516</td>\n",
       "      <td>0.500864</td>\n",
       "      <td>0.471723</td>\n",
       "      <td>0.234329</td>\n",
       "      <td>0.072982</td>\n",
       "      <td>0.008372</td>\n",
       "      <td>21.424402</td>\n",
       "    </tr>\n",
       "    <tr>\n",
       "      <th>2</th>\n",
       "      <td>0.768462</td>\n",
       "      <td>0.217706</td>\n",
       "      <td>0.727438</td>\n",
       "      <td>0.718377</td>\n",
       "      <td>0.452155</td>\n",
       "      <td>0.434638</td>\n",
       "      <td>0.043989</td>\n",
       "      <td>0.972489</td>\n",
       "      <td>0.450133</td>\n",
       "      <td>0.378157</td>\n",
       "      <td>31.422056</td>\n",
       "    </tr>\n",
       "    <tr>\n",
       "      <th>3</th>\n",
       "      <td>0.606637</td>\n",
       "      <td>0.604335</td>\n",
       "      <td>0.540332</td>\n",
       "      <td>0.491236</td>\n",
       "      <td>0.325632</td>\n",
       "      <td>0.206348</td>\n",
       "      <td>0.825767</td>\n",
       "      <td>0.332475</td>\n",
       "      <td>0.955518</td>\n",
       "      <td>0.162811</td>\n",
       "      <td>31.308588</td>\n",
       "    </tr>\n",
       "    <tr>\n",
       "      <th>4</th>\n",
       "      <td>0.119770</td>\n",
       "      <td>0.469718</td>\n",
       "      <td>0.632829</td>\n",
       "      <td>0.504207</td>\n",
       "      <td>0.238259</td>\n",
       "      <td>0.452457</td>\n",
       "      <td>0.775360</td>\n",
       "      <td>0.174262</td>\n",
       "      <td>0.117621</td>\n",
       "      <td>0.218883</td>\n",
       "      <td>23.322751</td>\n",
       "    </tr>\n",
       "  </tbody>\n",
       "</table>\n",
       "</div>"
      ],
      "text/plain": [
       "   feature_1  feature_2  feature_3  feature_4  feature_5  feature_6  \\\n",
       "0   0.113768   0.930064   0.330528   0.010987   0.265703   0.699462   \n",
       "1   0.380048   0.485946   0.870232   0.473401   0.454516   0.500864   \n",
       "2   0.768462   0.217706   0.727438   0.718377   0.452155   0.434638   \n",
       "3   0.606637   0.604335   0.540332   0.491236   0.325632   0.206348   \n",
       "4   0.119770   0.469718   0.632829   0.504207   0.238259   0.452457   \n",
       "\n",
       "   feature_7  feature_8  feature_9  feature_10     target  \n",
       "0   0.058465   0.431643   0.650958    0.751820  30.147094  \n",
       "1   0.471723   0.234329   0.072982    0.008372  21.424402  \n",
       "2   0.043989   0.972489   0.450133    0.378157  31.422056  \n",
       "3   0.825767   0.332475   0.955518    0.162811  31.308588  \n",
       "4   0.775360   0.174262   0.117621    0.218883  23.322751  "
      ]
     },
     "execution_count": 18,
     "metadata": {},
     "output_type": "execute_result"
    }
   ],
   "source": [
    "data = pd.read_csv('data.csv')\n",
    "\n",
    "data.head()"
   ]
  },
  {
   "cell_type": "markdown",
   "id": "973328a0",
   "metadata": {},
   "source": [
    "Обучим коэффициенты линейной регрессии с помощью библиотеки <a href=\"https://scikit-learn.org/stable/modules/generated/sklearn.linear_model.LinearRegression.html\"> **sklearn** </a>\n",
    "\n",
    "Отдельно выведем оценку свободного коэффициента  ($\\beta_0$ при $d_0 = 1$)"
   ]
  },
  {
   "cell_type": "code",
   "execution_count": 19,
   "id": "5581a4b0",
   "metadata": {},
   "outputs": [
    {
     "data": {
      "text/plain": [
       "(array([ 1.,  2.,  3.,  4.,  5.,  6.,  7.,  8.,  9., 10.]), 4.373157038707131)"
      ]
     },
     "execution_count": 19,
     "metadata": {},
     "output_type": "execute_result"
    }
   ],
   "source": [
    "from sklearn.linear_model import LinearRegression\n",
    "\n",
    "### Your code is here\n",
    "model = LinearRegression()\n",
    "model.fit(data.drop('target', axis=1), data.target)\n",
    "\n",
    "model.coef_, model.intercept_"
   ]
  },
  {
   "cell_type": "markdown",
   "id": "a2ea78d4",
   "metadata": {},
   "source": [
    "Теперь вам необходимо реализовать класс для оптимизации коэффициентов линейной регрессии МНК.\n",
    "Подразумевается, что на вход алгоритм будет принимать следующие параметры:\n",
    "\n",
    "- 2 pandas датафрейма **samples** и **targets**, содержащих матрицу объектов и ветор ответов соответственно\n",
    "- значение **learning rate**, который корректирует длину вектора-градиента (чтобы он не взорвался)\n",
    "- значение **threshold**'а для критерия останова (когда мы считаем, что мы сошлись к оптимуму)\n",
    "- параметр **copy**, который позволяет либо делать изменения in-place в датафрейме, подающимся в класс, если изменения матрицы объектов в принципе при обучении имеются. Или же копировать объект при инициализации класса и возвращать новый объект, если требуется.\n",
    "\n",
    "Он будет состоять из следующих важных компонент-методов:\n",
    "\n",
    "- **add_constant_feature**: добавляет колонку с названием *constant* из единичек к переданному датафрейму **samples**. Это позволяет оценить свободный коэффициент $\\beta_0$.\n",
    "\n",
    "- **calculate_mse_loss**: вычисляет при текущих весах **self.beta** значение среднеквадратической ошибки.\n",
    "\n",
    "- **calculate_gradient**: вычисляет при текущих весах вектор-градиент по функционалу.\n",
    "\n",
    "- **iteration**: производит итерацию градиентного спуска, то есть обновляет веса модели, в соответствии с установленным **learning_rate = $\\eta$**: $\\beta^{(n+1)} = \\beta^{(n)} - \\eta \\cdot \\nabla Q(\\beta^{(n)})$\n",
    "\n",
    "- **learn**: производит итерации обучения до того момента, пока не сработает критерий останова обучения. В этот раз критерием останова будет следующее событие: во время крайней итерации изменение в функционале качества модели составило значение меньшее, чем **self.threshold**. Иными словами, $|Q(\\beta^{(n)}) - Q(\\beta^{(n+1)})| < threshold$.\n",
    "\n",
    "P.S. установите в **__init__** аттрибут экземпляра с названием **iteration_loss_dict**, который будет устроен следующим образом: на каждой итерации мы будем добавлять в словарь пару ключ-значение, где ключем будет номер итерации $n$, а значением - среднеквадратическая ошибка в точке $\\beta^{(n)}$. Это пригодится нам в будущем для визуализации."
   ]
  },
  {
   "cell_type": "markdown",
   "id": "e05c05d1",
   "metadata": {},
   "source": [
    "### Hint: пример вычисления производной"
   ]
  },
  {
   "cell_type": "markdown",
   "id": "82947cf6",
   "metadata": {},
   "source": [
    "$$\n",
    "Q(a, X) = \\frac{1}{N}\\cdot\\sum_{i=1}^N (\\beta_1 \\cdot d_{i1} + ... + \\beta_n \\cdot d_{in} - y_i)^2\n",
    "$$\n",
    "\n",
    "Выше - минимизируемая функция. Она зависит от n переменных: $\\beta_1, ..., \\beta_n$. Вектор-градиент - матрица с одной строчкой, состоящей из производных 1го порядка по всем переменным.\n",
    "\n",
    "$$\n",
    "\\nabla Q(a, X) = (Q'_{\\beta_1} \\;\\;\\; Q'_{\\beta_2} \\;\\;\\; ... \\;\\;\\; Q'_{\\beta_{n-1}}  \\;\\;\\;  Q'_{\\beta_n})\n",
    "$$\n",
    "\n",
    "Пример вычисления производной по первой переменной:\n",
    "\n",
    "$$\n",
    "Q'_{\\beta_1} = \\frac{2}{N} \\cdot \\sum_{i=1}^N d_{i1} (\\beta_1 \\cdot d_{i1} + ... + \\beta_{n} \\cdot d_{in} - y_i)\n",
    "$$\n",
    "\n",
    "Скажем, для нашего датасета X, Y вычислим эту саму производную при начальных единичных коэффициентах $\\beta_{start} = (1 \\;\\;\\; 1 \\;\\;\\; ...)$"
   ]
  },
  {
   "cell_type": "markdown",
   "id": "1f993e39",
   "metadata": {},
   "source": [
    "Получим для каждого объекта в начале выражение из скобочек: \n",
    "$$\n",
    "\\beta_1 \\cdot d_{i1} + ... + \\beta_{n} \\cdot d_{in} - y_i\n",
    "$$"
   ]
  },
  {
   "cell_type": "code",
   "execution_count": 20,
   "id": "f7991b0c",
   "metadata": {},
   "outputs": [],
   "source": [
    "X = data.drop('target', axis=1)\n",
    "Y = data['target']"
   ]
  },
  {
   "cell_type": "code",
   "execution_count": 21,
   "id": "6981ff23",
   "metadata": {},
   "outputs": [],
   "source": [
    "### Инициализируем точку для коэффициентов в виде вектора из единичек\n",
    "initial_betas = np.ones(X.shape[1])\n",
    "\n",
    "### Получим выражение выше для каждого объекта. \n",
    "### Для этого скалярно перемножим строчки из X на наши beta\n",
    "\n",
    "scalar_value = np.dot(X, initial_betas.reshape(-1, 1)).ravel()\n",
    "scalar_value = (scalar_value - Y).values\n",
    "#scalar_value"
   ]
  },
  {
   "cell_type": "markdown",
   "id": "9522cedb",
   "metadata": {},
   "source": [
    "Теперь полученное значение для каждого объекта умножим на соответствующее значение признака $d_1$:\n",
    "\n",
    "$$\n",
    "d_{i1} \\cdot (\\beta_1 \\cdot d_{i1} + ... + \\beta_{n} \\cdot d_{in} - y_i)\n",
    "$$"
   ]
  },
  {
   "cell_type": "code",
   "execution_count": 22,
   "id": "8b352b6c",
   "metadata": {
    "tags": []
   },
   "outputs": [],
   "source": [
    "### Возьмем столбик со значениями 1 признака\n",
    "\n",
    "d_i1 = X.values[:, 0]\n",
    "#display(d_i1)\n",
    "### Умножим каждый объект на соответствующее значение признака\n",
    "scalar_value = scalar_value * d_i1\n",
    "#scalar_value"
   ]
  },
  {
   "cell_type": "code",
   "execution_count": 23,
   "id": "7963ba0a",
   "metadata": {},
   "outputs": [
    {
     "data": {
      "text/plain": [
       "-27.62384887912409"
      ]
     },
     "execution_count": 23,
     "metadata": {},
     "output_type": "execute_result"
    }
   ],
   "source": [
    "### Наконец, умножим все на 2 и усреднимся, \n",
    "### чтобы получить значение производной по первому параметру\n",
    "\n",
    "2 * np.mean(scalar_value)"
   ]
  },
  {
   "cell_type": "code",
   "execution_count": 24,
   "id": "8d1c3ea3",
   "metadata": {},
   "outputs": [
    {
     "data": {
      "text/plain": [
       "(1000, 10)"
      ]
     },
     "execution_count": 24,
     "metadata": {},
     "output_type": "execute_result"
    }
   ],
   "source": [
    "X.shape"
   ]
  },
  {
   "cell_type": "code",
   "execution_count": 25,
   "id": "b00c2229",
   "metadata": {},
   "outputs": [
    {
     "data": {
      "text/plain": [
       "array([-13811.92443956, -13524.62816865, -12786.71713181, -12950.24762248,\n",
       "       -13330.57390223, -14005.23918827, -13712.64626586, -14291.50366031,\n",
       "       -13709.98215261, -13896.63100413])"
      ]
     },
     "execution_count": 25,
     "metadata": {},
     "output_type": "execute_result"
    }
   ],
   "source": [
    "grad_i = np.dot(np.dot(X, initial_betas) - Y, X)\n",
    "grad_i\n"
   ]
  },
  {
   "cell_type": "markdown",
   "id": "181cc721",
   "metadata": {},
   "source": [
    "### Эта логика поможем Вам при реализации класса!"
   ]
  },
  {
   "cell_type": "markdown",
   "id": "9e40e0bf",
   "metadata": {},
   "source": [
    "learn(self)\n",
    "\n",
    "метод возвращает итоговую среднеквадратическую ошибку.\n",
    "метод итеративно вычисляет среднеквадратическую ошибку и вектор-градиент. номер итерации и MSE записываются в словарь *iteration_loss_dict*. критерий останова срабатывает тогда, когда абсолютное значение разницы двух последних MSE меньше *self.threshold*."
   ]
  },
  {
   "cell_type": "code",
   "execution_count": 26,
   "id": "68940a72",
   "metadata": {
    "tags": []
   },
   "outputs": [],
   "source": [
    "class GradientDescentMse:\n",
    "    \"\"\"\n",
    "    Базовый класс для реализации градиентного спуска в задаче линейной МНК регрессии \n",
    "    \"\"\"\n",
    "\n",
    "    def __init__(self, samples: pd.DataFrame, targets: pd.DataFrame,\n",
    "                 learning_rate: float = 1e-3, threshold = 1e-6, copy: bool = True):\n",
    "        \"\"\"\n",
    "        self.samples - матрица признаков\\n\n",
    "        self.targets - вектор таргетов\\n\n",
    "        self.beta - вектор из изначальными весами модели == коэффициентами бета (состоит из единиц)\\n\n",
    "        self.learning_rate - параметр *learning_rate* для корректировки нормы градиента\\n\n",
    "        self.threshold - величина, меньше которой изменение в loss-функции означает остановку градиентного спуска\\n\n",
    "        iteration_loss_dict - словарь, который будет хранить номер итерации и соответствующую MSE\\n\n",
    "        copy: копирование матрицы признаков или создание изменения in-place\n",
    "        \"\"\"\n",
    "        ### Your code is here\n",
    "        if copy:\n",
    "            self.samples = samples.copy()\n",
    "        else:\n",
    "            self.samples = samples\n",
    "        self.targets = targets\n",
    "        self.beta = np.ones(self.samples.shape[1])\n",
    "        self.learning_rate = learning_rate\n",
    "        self.threshold = threshold\n",
    "        self.iteration_loss_dict = {}\n",
    "        \n",
    "    def add_constant_feature(self):\n",
    "        \"\"\"\n",
    "        Метод для создания константной фичи в матрице объектов samples\n",
    "        Метод создает колонку с константным признаком (interсept) в матрице признаков.\n",
    "        Hint: так как количество признаков увеличилось на одну, не забудьте дополнить вектор с изначальными весами модели!\n",
    "        \"\"\"\n",
    "        ### Your code is here\n",
    "        self.samples['constant'] = 1\n",
    "        self.beta = np.ones(self.samples.shape[1])\n",
    "        \n",
    "    def calculate_mse_loss(self) -> float:\n",
    "        \"\"\"\n",
    "        Метод для расчета среднеквадратической ошибки\n",
    "        \n",
    "        :return: среднеквадратическая ошибка при текущих весах модели : float\n",
    "        \"\"\"\n",
    "        ### Your code is here\n",
    "        loss = np.mean((np.dot(self.samples, self.beta) - self.targets) ** 2)\n",
    "        return loss\n",
    "        \n",
    "\n",
    "    def calculate_gradient(self) -> np.ndarray:\n",
    "        \"\"\"\n",
    "        Метод для вычисления вектора-градиента\n",
    "        Метод возвращает вектор-градиент, содержащий производные по каждому признаку.\n",
    "        Сначала матрица признаков скалярно перемножается на вектор self.beta, и из каждой колонки\n",
    "        полученной матрицы вычитается вектор таргетов. Затем полученная матрица скалярно умножается на матрицу признаков.\n",
    "        Наконец, итоговая матрица умножается на 2 и усредняется по каждому признаку.\n",
    "        \n",
    "        :return: вектор-градиент, т.е. массив, содержащий соответствующее количество производных по каждой переменной : np.ndarray\n",
    "        \"\"\"\n",
    "        ### Your code is here\n",
    "        return np.array([2 * np.mean((np.dot(self.samples, self.beta) - self.targets) * self.samples.to_numpy()[:, i]) for i in range(self.samples.shape[1])])\n",
    "    \n",
    "    def iteration(self):\n",
    "        \"\"\"\n",
    "        Обновляем веса модели в соответствии с текущим вектором-градиентом\n",
    "        \"\"\"\n",
    "        ### Your code is here\n",
    "        self.beta = self.beta - self.learning_rate * self.calculate_gradient()\n",
    "        self.calculate_mse_loss()\n",
    "        \n",
    "    def learn(self):\n",
    "        \"\"\"\n",
    "        Итеративное обучение весов модели до срабатывания критерия останова\n",
    "        Запись mse и номера итерации в iteration_loss_dict\n",
    "        \n",
    "        Описание алгоритма работы для изменения бет:\n",
    "            Фиксируем текущие beta -> start_betas\n",
    "            Делаем шаг градиентного спуска\n",
    "            Записываем новые beta -> new_betas\n",
    "            Пока |L(new_beta) - L(start_beta)| >= threshold:\n",
    "                Повторяем первые 3 шага\n",
    "                \n",
    "        Описание алгоритма работы для изменения функции потерь:\n",
    "            Фиксируем текущие mse -> previous_mse\n",
    "            Делаем шаг градиентного спуска\n",
    "            Записываем новые mse -> next_mse\n",
    "            Пока |(previous_mse) - (next_mse)| >= threshold:\n",
    "                Повторяем первые 3 шага\n",
    "        \"\"\"\n",
    "        ### Your code is here\n",
    "        i = 0\n",
    "        previous_mse = 0\n",
    "        while True:\n",
    "            previous_mse = self.calculate_mse_loss()\n",
    "            self.iteration_loss_dict[i] = previous_mse\n",
    "            self.iteration()\n",
    "            mse = self.calculate_mse_loss()\n",
    "            i += 1\n",
    "            self.iteration_loss_dict[i] = mse\n",
    "            if (previous_mse - mse) < self.threshold:\n",
    "                break\n",
    "\n"
   ]
  },
  {
   "cell_type": "markdown",
   "id": "edaa6922",
   "metadata": {},
   "source": [
    "Обучим коэффициенты линейной модели с помощью реализованного нами градиентного спуска, не забыв добавить свободную переменную. Получились ли такие же коэффициенты, как и при использовании **LinearRegression** из **sklearn**? Если нет, то почему они отличаются, на Ваш взгляд, и сильно ли?"
   ]
  },
  {
   "cell_type": "code",
   "execution_count": 27,
   "id": "0c51077f",
   "metadata": {},
   "outputs": [],
   "source": [
    "GD = GradientDescentMse(samples=X, targets=Y)\n",
    "GD.add_constant_feature()\n",
    "GD.learn()"
   ]
  },
  {
   "cell_type": "code",
   "execution_count": 28,
   "id": "92f65b6f",
   "metadata": {},
   "outputs": [
    {
     "name": "stdout",
     "output_type": "stream",
     "text": [
      "Веса модели при переменных d0, d1, ..., d10 равны соответственно: \n",
      "\n",
      "[0.88733305 1.90100713 2.88063607 3.87662612 4.89623507 5.89126182\n",
      " 6.89254811 7.90311947 8.87580109 9.86109585 4.94854733]\n"
     ]
    },
    {
     "data": {
      "text/plain": [
       "41801"
      ]
     },
     "execution_count": 28,
     "metadata": {},
     "output_type": "execute_result"
    }
   ],
   "source": [
    "print('Веса модели при переменных d0, d1, ..., d10 равны соответственно: \\n\\n' + str(GD.beta))\n",
    "len(GD.iteration_loss_dict)"
   ]
  },
  {
   "cell_type": "markdown",
   "id": "8d90890b",
   "metadata": {},
   "source": [
    "Попробуйте теперь изменить значения **learning_rate** и/или **threshold**. Например, установите длину шага $\\eta = 1$. Что произошло и почему такое возможно?"
   ]
  },
  {
   "cell_type": "code",
   "execution_count": 88,
   "id": "778f55f3",
   "metadata": {},
   "outputs": [
    {
     "name": "stdout",
     "output_type": "stream",
     "text": [
      "Веса модели при переменных d0, d1, ..., d10 равны соответственно: \n",
      "\n",
      "[27.5892009  27.04062145 25.62435602 25.94476256 26.68745464 27.99169997\n",
      " 27.43473065 28.55830063 27.44021324 27.80569504 52.35139764]\n"
     ]
    }
   ],
   "source": [
    "### Your code is here\n",
    "GD = GradientDescentMse(samples=X, targets=Y, learning_rate=1)\n",
    "GD.add_constant_feature()\n",
    "GD.learn()\n",
    "print('Веса модели при переменных d0, d1, ..., d10 равны соответственно: \\n\\n' + str(GD.beta))"
   ]
  },
  {
   "cell_type": "markdown",
   "id": "b583aeea",
   "metadata": {},
   "source": [
    "В машинном обучении зачастую исследуют так называемые **траектории обучения** (или **learning paths**). Это графики, показывающие, как во время обучения при каждой следующей итерации изменялось значение минимизируемого функционала. Постройте такие траектории для различных **learning rate**'ов и **threshold**'ов. Советуем использовать для этого разобранный на занятиях **add_subplot** метод. \n",
    "\n",
    "Возьмите следующие **threshold**'ы: 1e-2, 1e-3, 1e-4, 1e-5\n",
    "\n",
    "И следующие значения **learning rate**'а: 1e-1, 5e-2, 1e-2, 5e-3, 1e-3\n",
    "\n",
    "У вас должен получиться примерно такой график (см. ниже, значения среднеквадратической ошибки мы намеренно замазали оранжевыми квадратиками, чтобы не спойлерить вам результаты).\n",
    "\n",
    "Как и подобает хорошим Data Scientist'ам, не забывайте подписывать графики, оси, а так же делать элементы ваших визуализаций читаемыми и видимыми. Советуем пересмотреть методы и параметры форматирования из лекции.\n",
    "\n",
    "При какой комбинации **threshold** - **learning rate** из возможных предложенных выше, получается достигнуть меньшего значения нашей минимизируемой функции? Запишите каждой из значений в легенде на графиках.\n"
   ]
  },
  {
   "cell_type": "code",
   "execution_count": 44,
   "id": "64eeb3d7-053f-403a-895a-cfc93359c6ab",
   "metadata": {},
   "outputs": [
    {
     "data": {
      "image/png": "[encoded data removed]",
      "text/plain": [
       "<Figure size 1440x648 with 1 Axes>"
      ]
     },
     "metadata": {
      "needs_background": "light"
     },
     "output_type": "display_data"
    },
    {
     "data": {
      "text/plain": [
       "'Learning rates equals to 0.01 with 0.0107 learning_rates'"
      ]
     },
     "execution_count": 44,
     "metadata": {},
     "output_type": "execute_result"
    }
   ],
   "source": [
    "fig = plt.figure()\n",
    "fig.set_size_inches(20, 9)\n",
    "\n",
    "plt.plot(GD.iteration_loss_dict.values(), GD.iteration_loss_dict.keys())\n",
    "plt.title('Threshold = {:.0e}'.format(0.0001))\n",
    "plt.xlabel('Номер итерации', fontsize=15, color='black')\n",
    "plt.ylabel('Среднеквадратическая ошибка', fontsize=15, color='black')\n",
    "plt.ylim(0, 100)\n",
    "plt.xlim(0, 2000)\n",
    "plt.show()\n",
    "'Learning rates equals to {} with {:.4f} learning_rates'.format(0.01, list(GD.iteration_loss_dict.values())[-1])"
   ]
  },
  {
   "cell_type": "code",
   "execution_count": 43,
   "id": "a6787505",
   "metadata": {
    "tags": []
   },
   "outputs": [
    {
     "ename": "SyntaxError",
     "evalue": "invalid syntax (3961490913.py, line 10)",
     "output_type": "error",
     "traceback": [
      "\u001b[0;36m  File \u001b[0;32m\"/tmp/ipykernel_46/3961490913.py\"\u001b[0;36m, line \u001b[0;32m10\u001b[0m\n\u001b[0;31m    for num, threshold in enumerate(thresholds)\u001b[0m\n\u001b[0m                                               ^\u001b[0m\n\u001b[0;31mSyntaxError\u001b[0m\u001b[0;31m:\u001b[0m invalid syntax\n"
     ]
    }
   ],
   "source": [
    "### Your code is here\n",
    "\n",
    "learning_rates = [0.1, 0.05, 0.01, 0.005, 0.001]\n",
    "thresholds = [0.01, 0.001, 0.0001, 0.00001]\n",
    "legend_list = []\n",
    "\n",
    "fig = plt.figure()\n",
    "fig.set_size_inches(20, 9)\n",
    "\n",
    "for num, threshold in enumerate(thresholds):\n",
    "    fig.add_subplot(2, 2, num)\n",
    "    plt.title('Threshold = {:.0e}'.format(threshold))\n",
    "    plt.xlabel('Номер итерации', fontsize=15, color='black')\n",
    "    plt.ylabel('Среднеквадратическая ошибка', fontsize=15, color='black')\n",
    "    for learning_rate in learning_rates:\n",
    "        GD = GradientDescentMse(samples=X, targets=Y)\n",
    "        GD.add_constant_feature()\n",
    "        GD.learn()\n",
    "        \n",
    "        plt.plot(GD.iteration_loss_dict.values(), GD.iteration_loss_dict.keys())\n",
    "        legend_list.append('Learning rates equals to {} with {:.4f} learning_rates'.format(learning_rate, list(GD.iteration_loss_dict.values())[-1])\n",
    "    \n",
    "    plt.legend(legend_list)\n",
    "\n",
    "plt.show()\n",
    "\n"
   ]
  },
  {
   "cell_type": "code",
   "execution_count": null,
   "id": "223aaeef",
   "metadata": {},
   "outputs": [],
   "source": []
  }
 ],
 "metadata": {
  "kernelspec": {
   "display_name": "Python 3 (ipykernel)",
   "language": "python",
   "name": "python3"
  },
  "language_info": {
   "codemirror_mode": {
    "name": "ipython",
    "version": 3
   },
   "file_extension": ".py",
   "mimetype": "text/x-python",
   "name": "python",
   "nbconvert_exporter": "python",
   "pygments_lexer": "ipython3",
   "version": "3.8.10"
  },
  "vscode": {
   "interpreter": {
    "hash": "ad2bdc8ecc057115af97d19610ffacc2b4e99fae6737bb82f5d7fb13d2f2c186"
   }
  }
 },
 "nbformat": 4,
 "nbformat_minor": 5
}
