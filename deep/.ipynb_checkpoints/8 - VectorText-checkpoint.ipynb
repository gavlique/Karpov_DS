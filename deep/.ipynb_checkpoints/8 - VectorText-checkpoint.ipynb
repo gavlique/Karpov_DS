{
 "cells": [
  {
   "cell_type": "markdown",
   "id": "ec7468b3-6a88-4090-8c61-718f6bdebcb7",
   "metadata": {},
   "source": [
    "# Homework 8 - Deep Learning\n",
    "\n",
    "Модифицируйте **TextCNN** с семинара и обучите ее на датасете IMDB. Добейтесь качества в 87% на тестовой выборке. Определим тестовую выборку следующим образом:\n",
    "\n",
    "```python\n",
    "df = pd.read_csv('IMDB Dataset.csv')\n",
    "df_train, df_test = np.split(df, [45000], axis=0)\n",
    "```\n",
    "\n",
    "Модифицируйте класс датасета IMDB, чтобы он принимал датафрейм на вход, а не читал по пути.\n",
    "\n",
    "Чтобы мы могли проверить задание, сдайте ваши предсказания для тестовой выборки (классы, считаем, что `positive = 0, negative = 1`). Для этого воспользуйтесь `torch.save`, сдайте тензор размером (5000)."
   ]
  },
  {
   "cell_type": "markdown",
   "id": "29a12876-92e2-46e0-93e0-5072996976da",
   "metadata": {},
   "source": [
    "## Загрузка библиотек"
   ]
  },
  {
   "cell_type": "code",
   "execution_count": 10,
   "id": "904f5c2f-b8e9-4dae-912c-8f19b54e4c27",
   "metadata": {},
   "outputs": [],
   "source": [
    "import torch\n",
    "import torch.nn as nn\n",
    "from torch.optim import Adam\n",
    "from torch.optim.lr_scheduler import ReduceLROnPlateau, OneCycleLR\n",
    "from torch.utils.data import Dataset, DataLoader, random_split\n",
    "from torch.nn.utils.rnn import pad_sequence\n",
    "from tqdm import tqdm\n",
    "import torch.nn.functional as F\n",
    "import numpy as np\n",
    "import pandas as pd\n",
    "import matplotlib.pyplot as plt\n",
    "from IPython.display import clear_output\n",
    "import re\n",
    "import os\n",
    "import string\n",
    "from typing import List, Tuple\n",
    "from collections import Counter"
   ]
  },
  {
   "cell_type": "markdown",
   "id": "827e02bd-3688-487a-a61d-5142b1fdfaf3",
   "metadata": {},
   "source": [
    "## Импорт и определение датасета"
   ]
  },
  {
   "cell_type": "code",
   "execution_count": 22,
   "id": "fdcc5967-31a0-418e-b469-65c9b1157627",
   "metadata": {},
   "outputs": [],
   "source": [
    "df = pd.read_csv('../../IMDB Dataset.csv')\n",
    "df_train, df_test = np.split(df, [45000], axis=0)"
   ]
  },
  {
   "cell_type": "code",
   "execution_count": 24,
   "id": "e28b66fa-2953-46f9-82e1-b5d2b1ec8b9f",
   "metadata": {},
   "outputs": [],
   "source": [
    "# Создаем класс словаря\n",
    "class Vocabulary:\n",
    "    def __init__(self, texts: List[str], min_freq: int = 10):\n",
    "        text = ' '.join(texts)\n",
    "\n",
    "        text = re.sub(r\"http[s]?://(?:[a-zA-Z]|[0-9]|[$-_@.&+]|[!*\\(\\),]|(?:%[0-9a-fA-F][0-9a-fA-F]))+\", \" \", text)\n",
    "        text = re.sub(\"[^a-zA-Z]\", \" \", text)\n",
    "\n",
    "        while '  ' in text:\n",
    "            text = text.replace('  ', ' ')\n",
    "\n",
    "        words = text.strip().lower().split()\n",
    "\n",
    "        c = Counter(words)\n",
    "\n",
    "        self.vocabulary = list(set([word for word in words if c[word] >= min_freq]))\n",
    "        self.vocabulary.append('<unk>')\n",
    "        self._idx2word = {i: word for i, word in enumerate(self.vocabulary)}\n",
    "        self._word2idx = {word: i for i, word in enumerate(self.vocabulary)}\n",
    "\n",
    "    def get_vocabulary(self):\n",
    "        return self.vocabulary\n",
    "\n",
    "    def idx2word(self, idx: int):\n",
    "        if idx not in self._idx2word:\n",
    "            return '<unk>'\n",
    "\n",
    "        return self._idx2word[idx]\n",
    "\n",
    "    def word2idx(self, word: str):\n",
    "        word = word.lower()\n",
    "        if word not in self._word2idx:\n",
    "            return self._word2idx['<unk>']\n",
    "\n",
    "        return self._word2idx[word]\n",
    "    \n",
    "    def encode(self, text):\n",
    "        result = []\n",
    "\n",
    "        for word in text.split():\n",
    "            result.append(self.word2idx(word))\n",
    "\n",
    "        return result\n",
    "\n",
    "    def build_vectors(self, fasttext):\n",
    "        vectors = []\n",
    "        \n",
    "        for word in self.vocabulary:\n",
    "            if fasttext.has_index_for(word):\n",
    "                vectors.append(fasttext[word])\n",
    "            else:\n",
    "                vectors.append(np.zeros(25))\n",
    "\n",
    "        return np.stack(vectors)"
   ]
  },
  {
   "cell_type": "code",
   "execution_count": null,
   "id": "e366d6bd-ea83-4162-889e-9e8367250465",
   "metadata": {},
   "outputs": [],
   "source": [
    "class IMDB(Dataset):\n",
    "    def __init__(self, path):\n",
    "        self.df = pd.read_csv(path)\n",
    "        \n",
    "        texts = self.df['review'].values\n",
    "\n",
    "        self.vocab = Vocabulary(texts, min_freq=5)\n",
    "\n",
    "        self.label2idx = {'positive': 0, 'negative': 1}\n",
    "\n",
    "    def __getitem__(self, idx):\n",
    "        text = self.df['review'].loc[idx]\n",
    "        label = self.label2idx[self.df['sentiment'].loc[idx]]\n",
    "\n",
    "        text = torch.LongTensor(self.vocab.encode(text))\n",
    "        label = torch.FloatTensor([label])\n",
    "\n",
    "        return text, label\n",
    "\n",
    "    def __len__(self):\n",
    "        return len(self.df)"
   ]
  },
  {
   "cell_type": "code",
   "execution_count": 27,
   "id": "9d54e809-c8d6-48e4-aab3-f4b479bf1f57",
   "metadata": {},
   "outputs": [
    {
     "ename": "AttributeError",
     "evalue": "'DataFrame' object has no attribute 'vocab'",
     "output_type": "error",
     "traceback": [
      "\u001b[0;31m---------------------------------------------------------------------------\u001b[0m",
      "\u001b[0;31mAttributeError\u001b[0m                            Traceback (most recent call last)",
      "\u001b[0;32m/tmp/ipykernel_46/2079318630.py\u001b[0m in \u001b[0;36m<module>\u001b[0;34m\u001b[0m\n\u001b[1;32m      2\u001b[0m \u001b[0;32mfrom\u001b[0m \u001b[0mtorch\u001b[0m\u001b[0;34m.\u001b[0m\u001b[0mnn\u001b[0m\u001b[0;34m.\u001b[0m\u001b[0mutils\u001b[0m\u001b[0;34m.\u001b[0m\u001b[0mrnn\u001b[0m \u001b[0;32mimport\u001b[0m \u001b[0mpad_sequence\u001b[0m\u001b[0;34m\u001b[0m\u001b[0;34m\u001b[0m\u001b[0m\n\u001b[1;32m      3\u001b[0m \u001b[0;34m\u001b[0m\u001b[0m\n\u001b[0;32m----> 4\u001b[0;31m \u001b[0mpad_idx\u001b[0m \u001b[0;34m=\u001b[0m \u001b[0mlen\u001b[0m\u001b[0;34m(\u001b[0m\u001b[0mdf\u001b[0m\u001b[0;34m.\u001b[0m\u001b[0mvocab\u001b[0m\u001b[0;34m.\u001b[0m\u001b[0mvocabulary\u001b[0m\u001b[0;34m)\u001b[0m\u001b[0;34m\u001b[0m\u001b[0;34m\u001b[0m\u001b[0m\n\u001b[0m\u001b[1;32m      5\u001b[0m \u001b[0;34m\u001b[0m\u001b[0m\n\u001b[1;32m      6\u001b[0m \u001b[0;32mdef\u001b[0m \u001b[0mcollate_fn\u001b[0m\u001b[0;34m(\u001b[0m\u001b[0mbatch\u001b[0m\u001b[0;34m)\u001b[0m\u001b[0;34m:\u001b[0m\u001b[0;34m\u001b[0m\u001b[0;34m\u001b[0m\u001b[0m\n",
      "\u001b[0;32m/nfs/env/lib/python3.8/site-packages/pandas/core/generic.py\u001b[0m in \u001b[0;36m__getattr__\u001b[0;34m(self, name)\u001b[0m\n\u001b[1;32m   5485\u001b[0m         ):\n\u001b[1;32m   5486\u001b[0m             \u001b[0;32mreturn\u001b[0m \u001b[0mself\u001b[0m\u001b[0;34m[\u001b[0m\u001b[0mname\u001b[0m\u001b[0;34m]\u001b[0m\u001b[0;34m\u001b[0m\u001b[0;34m\u001b[0m\u001b[0m\n\u001b[0;32m-> 5487\u001b[0;31m         \u001b[0;32mreturn\u001b[0m \u001b[0mobject\u001b[0m\u001b[0;34m.\u001b[0m\u001b[0m__getattribute__\u001b[0m\u001b[0;34m(\u001b[0m\u001b[0mself\u001b[0m\u001b[0;34m,\u001b[0m \u001b[0mname\u001b[0m\u001b[0;34m)\u001b[0m\u001b[0;34m\u001b[0m\u001b[0;34m\u001b[0m\u001b[0m\n\u001b[0m\u001b[1;32m   5488\u001b[0m \u001b[0;34m\u001b[0m\u001b[0m\n\u001b[1;32m   5489\u001b[0m     \u001b[0;32mdef\u001b[0m \u001b[0m__setattr__\u001b[0m\u001b[0;34m(\u001b[0m\u001b[0mself\u001b[0m\u001b[0;34m,\u001b[0m \u001b[0mname\u001b[0m\u001b[0;34m:\u001b[0m \u001b[0mstr\u001b[0m\u001b[0;34m,\u001b[0m \u001b[0mvalue\u001b[0m\u001b[0;34m)\u001b[0m \u001b[0;34m->\u001b[0m \u001b[0;32mNone\u001b[0m\u001b[0;34m:\u001b[0m\u001b[0;34m\u001b[0m\u001b[0;34m\u001b[0m\u001b[0m\n",
      "\u001b[0;31mAttributeError\u001b[0m: 'DataFrame' object has no attribute 'vocab'"
     ]
    }
   ],
   "source": [
    "# функция для создания батчей и лоудер\n",
    "from torch.nn.utils.rnn import pad_sequence\n",
    "\n",
    "pad_idx = len(dataset.vocab.vocabulary)\n",
    "\n",
    "def collate_fn(batch):\n",
    "    texts = pad_sequence([b[0] for b in batch], padding_value=pad_idx, batch_first=True)\n",
    "    labels = torch.stack([b[1] for b in batch])\n",
    "    \n",
    "    return texts, labels\n",
    "\n",
    "train_loader = DataLoader(df_train, batch_size=64, collate_fn=collate_fn, pin_memory=True)\n",
    "test_loader = DataLoader(df_test, batch_size=64, collate_fn=collate_fn, pin_memory=True)"
   ]
  },
  {
   "cell_type": "code",
   "execution_count": null,
   "id": "5a92836e-eb52-4e3e-a377-fd81a375870c",
   "metadata": {},
   "outputs": [],
   "source": []
  }
 ],
 "metadata": {
  "kernelspec": {
   "display_name": "Python 3 (ipykernel)",
   "language": "python",
   "name": "python3"
  },
  "language_info": {
   "codemirror_mode": {
    "name": "ipython",
    "version": 3
   },
   "file_extension": ".py",
   "mimetype": "text/x-python",
   "name": "python",
   "nbconvert_exporter": "python",
   "pygments_lexer": "ipython3",
   "version": "3.8.10"
  }
 },
 "nbformat": 4,
 "nbformat_minor": 5
}
