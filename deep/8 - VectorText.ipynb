{
 "cells": [
  {
   "attachments": {},
   "cell_type": "markdown",
   "id": "ec7468b3-6a88-4090-8c61-718f6bdebcb7",
   "metadata": {},
   "source": [
    "# Homework 8 - Deep Learning\n",
    "\n",
    "Модифицируйте **TextCNN** с семинара и обучите ее на датасете IMDB. Добейтесь качества в 87% на тестовой выборке. Определим тестовую выборку следующим образом:\n",
    "\n",
    "```python\n",
    "df = pd.read_csv('IMDB Dataset.csv')\n",
    "df_train, df_test = np.split(df, [45000], axis=0)\n",
    "```\n",
    "\n",
    "Модифицируйте класс датасета IMDB, чтобы он принимал датафрейм на вход, а не читал по пути.\n",
    "\n",
    "Чтобы мы могли проверить задание, сдайте ваши предсказания для тестовой выборки (классы, считаем, что `positive = 0, negative = 1`). Для этого воспользуйтесь `torch.save`, сдайте тензор размером (5000)."
   ]
  },
  {
   "attachments": {},
   "cell_type": "markdown",
   "id": "29a12876-92e2-46e0-93e0-5072996976da",
   "metadata": {},
   "source": [
    "## Загрузка библиотек"
   ]
  },
  {
   "cell_type": "code",
   "execution_count": 1,
   "id": "904f5c2f-b8e9-4dae-912c-8f19b54e4c27",
   "metadata": {},
   "outputs": [],
   "source": [
    "import torch\n",
    "import torch.nn as nn\n",
    "from torch.optim import Adam\n",
    "from torch.optim.lr_scheduler import ReduceLROnPlateau, OneCycleLR\n",
    "from torch.utils.data import Dataset, DataLoader, random_split\n",
    "from torch.nn.utils.rnn import pad_sequence\n",
    "from tqdm import tqdm\n",
    "import torch.nn.functional as F\n",
    "import numpy as np\n",
    "import pandas as pd\n",
    "import matplotlib.pyplot as plt\n",
    "from IPython.display import clear_output\n",
    "import re\n",
    "import os\n",
    "import warnings\n",
    "import string\n",
    "from typing import List, Tuple\n",
    "from collections import Counter\n",
    "\n",
    "%load_ext autoreload\n",
    "%autoreload 2\n",
    "\n",
    "warnings.filterwarnings('ignore')\n",
    "\n",
    "plt.rc('font', size=20)\n",
    "\n",
    "device = torch.device('cuda:0' if torch.cuda.is_available() else 'cpu')"
   ]
  },
  {
   "attachments": {},
   "cell_type": "markdown",
   "id": "827e02bd-3688-487a-a61d-5142b1fdfaf3",
   "metadata": {},
   "source": [
    "## Импорт и определение датасета"
   ]
  },
  {
   "cell_type": "code",
   "execution_count": 2,
   "id": "fdcc5967-31a0-418e-b469-65c9b1157627",
   "metadata": {},
   "outputs": [],
   "source": [
    "df = pd.read_csv('../../IMDB Dataset.csv')\n",
    "df_train, df_test = np.split(df, [45000], axis=0)\n",
    "df_train.reset_index(drop=True, inplace=True)\n",
    "df_test.reset_index(drop=True, inplace=True)"
   ]
  },
  {
   "cell_type": "code",
   "execution_count": 3,
   "id": "c3773293-6a23-4837-a144-197875faae24",
   "metadata": {},
   "outputs": [
    {
     "data": {
      "text/html": [
       "<div>\n",
       "<style scoped>\n",
       "    .dataframe tbody tr th:only-of-type {\n",
       "        vertical-align: middle;\n",
       "    }\n",
       "\n",
       "    .dataframe tbody tr th {\n",
       "        vertical-align: top;\n",
       "    }\n",
       "\n",
       "    .dataframe thead th {\n",
       "        text-align: right;\n",
       "    }\n",
       "</style>\n",
       "<table border=\"1\" class=\"dataframe\">\n",
       "  <thead>\n",
       "    <tr style=\"text-align: right;\">\n",
       "      <th></th>\n",
       "      <th>review</th>\n",
       "      <th>sentiment</th>\n",
       "    </tr>\n",
       "  </thead>\n",
       "  <tbody>\n",
       "    <tr>\n",
       "      <th>0</th>\n",
       "      <td>One of the other reviewers has mentioned that ...</td>\n",
       "      <td>positive</td>\n",
       "    </tr>\n",
       "    <tr>\n",
       "      <th>1</th>\n",
       "      <td>A wonderful little production. &lt;br /&gt;&lt;br /&gt;The...</td>\n",
       "      <td>positive</td>\n",
       "    </tr>\n",
       "    <tr>\n",
       "      <th>2</th>\n",
       "      <td>I thought this was a wonderful way to spend ti...</td>\n",
       "      <td>positive</td>\n",
       "    </tr>\n",
       "    <tr>\n",
       "      <th>3</th>\n",
       "      <td>Basically there's a family where a little boy ...</td>\n",
       "      <td>negative</td>\n",
       "    </tr>\n",
       "    <tr>\n",
       "      <th>4</th>\n",
       "      <td>Petter Mattei's \"Love in the Time of Money\" is...</td>\n",
       "      <td>positive</td>\n",
       "    </tr>\n",
       "    <tr>\n",
       "      <th>...</th>\n",
       "      <td>...</td>\n",
       "      <td>...</td>\n",
       "    </tr>\n",
       "    <tr>\n",
       "      <th>44995</th>\n",
       "      <td>I watched this movie for the first time a few ...</td>\n",
       "      <td>negative</td>\n",
       "    </tr>\n",
       "    <tr>\n",
       "      <th>44996</th>\n",
       "      <td>I am a sucker for films like this. Films that ...</td>\n",
       "      <td>positive</td>\n",
       "    </tr>\n",
       "    <tr>\n",
       "      <th>44997</th>\n",
       "      <td>I am a college student studying a-levels and n...</td>\n",
       "      <td>positive</td>\n",
       "    </tr>\n",
       "    <tr>\n",
       "      <th>44998</th>\n",
       "      <td>huge Ramones fan. i do like the ramones, and i...</td>\n",
       "      <td>positive</td>\n",
       "    </tr>\n",
       "    <tr>\n",
       "      <th>44999</th>\n",
       "      <td>I rented this movie yesterday and can hardly e...</td>\n",
       "      <td>negative</td>\n",
       "    </tr>\n",
       "  </tbody>\n",
       "</table>\n",
       "<p>45000 rows × 2 columns</p>\n",
       "</div>"
      ],
      "text/plain": [
       "                                                  review sentiment\n",
       "0      One of the other reviewers has mentioned that ...  positive\n",
       "1      A wonderful little production. <br /><br />The...  positive\n",
       "2      I thought this was a wonderful way to spend ti...  positive\n",
       "3      Basically there's a family where a little boy ...  negative\n",
       "4      Petter Mattei's \"Love in the Time of Money\" is...  positive\n",
       "...                                                  ...       ...\n",
       "44995  I watched this movie for the first time a few ...  negative\n",
       "44996  I am a sucker for films like this. Films that ...  positive\n",
       "44997  I am a college student studying a-levels and n...  positive\n",
       "44998  huge Ramones fan. i do like the ramones, and i...  positive\n",
       "44999  I rented this movie yesterday and can hardly e...  negative\n",
       "\n",
       "[45000 rows x 2 columns]"
      ]
     },
     "execution_count": 3,
     "metadata": {},
     "output_type": "execute_result"
    }
   ],
   "source": [
    "df_train"
   ]
  },
  {
   "cell_type": "code",
   "execution_count": 4,
   "id": "e28b66fa-2953-46f9-82e1-b5d2b1ec8b9f",
   "metadata": {},
   "outputs": [],
   "source": [
    "# Создаем класс словаря\n",
    "class Vocabulary:\n",
    "    def __init__(self, texts: List[str], min_freq: int = 10):\n",
    "        text = ' '.join(texts)\n",
    "\n",
    "        text = re.sub(r\"http[s]?://(?:[a-zA-Z]|[0-9]|[$-_@.&+]|[!*\\(\\),]|(?:%[0-9a-fA-F][0-9a-fA-F]))+\", \" \", text)\n",
    "        text = re.sub(\"[^a-zA-Z]\", \" \", text)\n",
    "\n",
    "        while '  ' in text:\n",
    "            text = text.replace('  ', ' ')\n",
    "\n",
    "        words = text.strip().lower().split()\n",
    "\n",
    "        c = Counter(words)\n",
    "\n",
    "        self.vocabulary = list(set([word for word in words if c[word] >= min_freq]))\n",
    "        self.vocabulary.append('<unk>')\n",
    "        self._idx2word = {i: word for i, word in enumerate(self.vocabulary)}\n",
    "        self._word2idx = {word: i for i, word in enumerate(self.vocabulary)}\n",
    "\n",
    "    def get_vocabulary(self):\n",
    "        return self.vocabulary\n",
    "\n",
    "    def idx2word(self, idx: int):\n",
    "        if idx not in self._idx2word:\n",
    "            return '<unk>'\n",
    "\n",
    "        return self._idx2word[idx]\n",
    "\n",
    "    def word2idx(self, word: str):\n",
    "        word = word.lower()\n",
    "        if word not in self._word2idx:\n",
    "            return self._word2idx['<unk>']\n",
    "\n",
    "        return self._word2idx[word]\n",
    "    \n",
    "    def encode(self, text):\n",
    "        result = []\n",
    "\n",
    "        for word in text.split():\n",
    "            result.append(self.word2idx(word))\n",
    "\n",
    "        return result\n",
    "\n",
    "    def build_vectors(self, fasttext):\n",
    "        vectors = []\n",
    "        \n",
    "        for word in self.vocabulary:\n",
    "            if fasttext.has_index_for(word):\n",
    "                vectors.append(fasttext[word])\n",
    "            else:\n",
    "                vectors.append(np.zeros(25))\n",
    "\n",
    "        return np.stack(vectors)"
   ]
  },
  {
   "cell_type": "code",
   "execution_count": 5,
   "id": "e366d6bd-ea83-4162-889e-9e8367250465",
   "metadata": {},
   "outputs": [],
   "source": [
    "class IMDB(Dataset):\n",
    "    \n",
    "    def __init__(self, dataset, vocab):\n",
    "        \n",
    "        self.dataset = dataset\n",
    "        self.vocab = vocab\n",
    "        \n",
    "        self.label2idx = {\"positive\": 0, \"negative\": 1}\n",
    "        \n",
    "    def __getitem__(self, idx):\n",
    "        text = self.dataset[\"review\"].loc[idx]\n",
    "        label = self.label2idx[self.dataset[\"sentiment\"].loc[idx]]\n",
    "        \n",
    "        text = torch.LongTensor(self.vocab.encode(text))\n",
    "        label = torch.FloatTensor([label])\n",
    "        \n",
    "        return text, label\n",
    "    \n",
    "    def __len__(self):\n",
    "        return len(self.dataset)\n",
    "\n"
   ]
  },
  {
   "cell_type": "code",
   "execution_count": 6,
   "id": "d078d6fa-fd81-4f2a-98ef-76bfeca999f8",
   "metadata": {},
   "outputs": [],
   "source": [
    "vocab = Vocabulary(df['review'].values, min_freq=5)\n",
    "\n",
    "dataset = IMDB(df, vocab)\n",
    "train_dataset = IMDB(df_train, vocab)\n",
    "test_dataset = IMDB(df_test, vocab)"
   ]
  },
  {
   "cell_type": "code",
   "execution_count": 7,
   "id": "9d54e809-c8d6-48e4-aab3-f4b479bf1f57",
   "metadata": {},
   "outputs": [],
   "source": [
    "# функция для создания батчей и лоудер\n",
    "from torch.nn.utils.rnn import pad_sequence\n",
    "\n",
    "pad_idx = len(dataset.vocab.vocabulary)\n",
    "\n",
    "def collate_fn(batch):\n",
    "    texts = pad_sequence([b[0] for b in batch], padding_value=pad_idx, batch_first=True)\n",
    "    labels = torch.stack([b[1] for b in batch])\n",
    "    \n",
    "    return texts, labels\n",
    "\n",
    "train_loader = DataLoader(train_dataset, batch_size=64, collate_fn=collate_fn, pin_memory=True)\n",
    "test_loader = DataLoader(test_dataset, batch_size=64, collate_fn=collate_fn, pin_memory=True)"
   ]
  },
  {
   "cell_type": "code",
   "execution_count": 14,
   "id": "e8ede173-efab-4819-ae15-ae10593309fe",
   "metadata": {},
   "outputs": [
    {
     "name": "stdout",
     "output_type": "stream",
     "text": [
      "[==================================================] 100.0% 104.8/104.8MB downloaded\n"
     ]
    }
   ],
   "source": [
    "# возьмем предобученные на твиттере ембеддинги\n",
    "import gensim.downloader as api\n",
    "\n",
    "fasttext = api.load('glove-twitter-25')\n",
    "\n",
    "vectors = dataset.vocab.build_vectors(fasttext)"
   ]
  },
  {
   "attachments": {},
   "cell_type": "markdown",
   "id": "f3eedeea-1329-4a34-beb0-7468fd8979a5",
   "metadata": {},
   "source": [
    "## Служебные функции"
   ]
  },
  {
   "cell_type": "code",
   "execution_count": 21,
   "id": "792d296b-cc64-417f-9f4f-92a6f07c710d",
   "metadata": {},
   "outputs": [],
   "source": [
    "def binary_accuracy(preds, y):\n",
    "    y = y.cpu()\n",
    "    rounded_preds = torch.round(torch.sigmoid(preds)).cpu()\n",
    "    correct = (rounded_preds == y).float()\n",
    "    acc = correct.sum() / len(correct)\n",
    "    return acc\n",
    "\n",
    "\n",
    "def train(model: nn.Module, \n",
    "                      data_loader: DataLoader, \n",
    "                      optimizer: torch.optim.Optimizer,\n",
    "                      oc_scheduler,\n",
    "                      loss_fn) -> Tuple[float, float, float]:\n",
    "    model.to(device)\n",
    "    model.train()\n",
    "    lrs = []\n",
    "\n",
    "    train_loss = 0\n",
    "    train_accuracy = 0\n",
    "\n",
    "    for x, y in tqdm(data_loader, desc='Train'):\n",
    "        x, y = x.to(device), y.to(device)\n",
    "\n",
    "        optimizer.zero_grad()\n",
    "\n",
    "        output = model(x)\n",
    "\n",
    "        loss = loss_fn(output, y)\n",
    "\n",
    "        train_loss += loss.item()\n",
    "        train_accuracy += binary_accuracy(output, y)\n",
    "\n",
    "        loss.backward()\n",
    "\n",
    "        optimizer.step()\n",
    "        \n",
    "        oc_scheduler.step()\n",
    "        lrs.append(optimizer.param_groups[0]['lr'])\n",
    "\n",
    "    train_loss /= len(data_loader)\n",
    "    train_accuracy /= len(data_loader)\n",
    "\n",
    "    return train_loss, train_accuracy, lrs\n"
   ]
  },
  {
   "cell_type": "code",
   "execution_count": 9,
   "id": "646ee65c-46be-414b-b7b9-055dbb1e254b",
   "metadata": {},
   "outputs": [],
   "source": [
    "@torch.inference_mode()\n",
    "def evaluate(model, loader, loss_fn) -> Tuple[float, float]:\n",
    "    model.eval()\n",
    "\n",
    "    total_loss = 0\n",
    "    total_accuracy = 0\n",
    "\n",
    "    for x, y in tqdm(loader, desc='Evaluation'):\n",
    "        x, y = x.to(device), y.to(device)\n",
    "\n",
    "        output = model(x)\n",
    "\n",
    "        loss = loss_fn(output, y)\n",
    "\n",
    "        total_loss += loss.item()\n",
    "        total_accuracy += binary_accuracy(output, y)\n",
    "\n",
    "    total_loss /= len(loader)\n",
    "    total_accuracy /= len(loader)\n",
    "\n",
    "    return total_loss, total_accuracy"
   ]
  },
  {
   "cell_type": "code",
   "execution_count": 10,
   "id": "ae23afff-857f-4ef4-a42b-52bafb4d0130",
   "metadata": {},
   "outputs": [],
   "source": [
    "def plot_stats(\n",
    "    train_loss: List[float],\n",
    "    valid_loss: List[float],\n",
    "    train_accuracy: List[float],\n",
    "    valid_accuracy: List[float],\n",
    "    title: str,\n",
    "    lr=None\n",
    "):\n",
    "    plt.figure(figsize=(16, 8))\n",
    "\n",
    "    plt.title(title + ' loss')\n",
    "\n",
    "    plt.plot(train_loss, label='Train loss')\n",
    "    plt.plot(valid_loss, label='Valid loss')\n",
    "    plt.legend()\n",
    "    plt.grid()\n",
    "\n",
    "    plt.show()\n",
    "\n",
    "    plt.figure(figsize=(16, 8))\n",
    "\n",
    "    plt.title(title + ' accuracy')\n",
    "    \n",
    "    plt.plot(train_accuracy, label='Train accuracy')\n",
    "    plt.plot(valid_accuracy, label='Valid accuracy')\n",
    "    plt.legend()\n",
    "    plt.grid()\n",
    "\n",
    "    plt.show()\n",
    "    \n",
    "    if lr:\n",
    "        plt.figure(figsize=(16, 8))\n",
    "\n",
    "        plt.title(title + ' Learning Rate')\n",
    "        plt.plot(lr, label='Learning Rate')\n",
    "        plt.grid()\n",
    "\n",
    "        plt.show()"
   ]
  },
  {
   "cell_type": "code",
   "execution_count": 70,
   "id": "cf08d27e-dbad-43c6-b681-8f6e046eebb8",
   "metadata": {},
   "outputs": [],
   "source": [
    "def whole_train_valid_cycle(model, num_epochs, title):\n",
    "    train_loss_history, valid_loss_history = [], []\n",
    "    train_accuracy_history, valid_accuracy_history = [], []\n",
    "    lr_history = []\n",
    "\n",
    "    for epoch in range(num_epochs):\n",
    "        train_loss, train_accuracy, lrs = train(model, \n",
    "                                                                   train_loader,\n",
    "                                                                   optimizer,\n",
    "                                                                   oc_scheduler,\n",
    "                                                                   loss_fn)\n",
    "        valid_loss, valid_accuracy = evaluate(model, test_loader, loss_fn)\n",
    "\n",
    "        train_loss_history.append(train_loss)\n",
    "        valid_loss_history.append(valid_loss)\n",
    "\n",
    "        train_accuracy_history.append(train_accuracy)\n",
    "        valid_accuracy_history.append(valid_accuracy)\n",
    "        lr_history.extend(lrs)\n",
    "\n",
    "\n",
    "        clear_output()\n",
    "\n",
    "        plot_stats(\n",
    "            train_loss_history, valid_loss_history,\n",
    "            train_accuracy_history, valid_accuracy_history,\n",
    "            title, lr_history\n",
    "        )\n",
    "    "
   ]
  },
  {
   "attachments": {},
   "cell_type": "markdown",
   "id": "6c92c308-7dab-42d8-82fe-5b3f89f16b73",
   "metadata": {},
   "source": [
    "## Модель"
   ]
  },
  {
   "cell_type": "code",
   "execution_count": 104,
   "id": "5a92836e-eb52-4e3e-a377-fd81a375870c",
   "metadata": {},
   "outputs": [],
   "source": [
    "class TextCNN(nn.Module):\n",
    "    def __init__(self, vocab_size: int, embedding_dim: int, pad_idx):\n",
    "        super().__init__()\n",
    "\n",
    "        self.embedding = nn.Embedding(vocab_size, embedding_dim, padding_idx = pad_idx)\n",
    "\n",
    "        self.convs = nn.ModuleList(\n",
    "            [\n",
    "                nn.Conv2d(\n",
    "                    in_channels = 1, \n",
    "                    out_channels = 16, \n",
    "                    kernel_size = (fs, embedding_dim)) \n",
    "                for fs in range(2, 2 + 16)\n",
    "            ]\n",
    "        )\n",
    "\n",
    "        self.fc = nn.Linear(16 * 16, 1)\n",
    "\n",
    "        self.dropout = nn.Dropout(0.3)\n",
    "\n",
    "    def forward(self, x):\n",
    "        x = self.embedding(x)\n",
    "        x = x.unsqueeze(1)\n",
    "\n",
    "        x = [F.relu(conv(x)).squeeze(3) for conv in self.convs]\n",
    "\n",
    "        x = [F.max_pool1d(_, _.shape[2]).squeeze(2) for _ in x]\n",
    "\n",
    "        x = self.dropout(torch.cat(x, dim = 1))\n",
    "\n",
    "        return self.fc(x)"
   ]
  },
  {
   "cell_type": "code",
   "execution_count": 105,
   "id": "612f4ffb-8674-45df-a064-bf818f42d37b",
   "metadata": {},
   "outputs": [],
   "source": [
    "model = TextCNN(vocab_size=len(dataset.vocab.vocabulary) + 1, embedding_dim=25, pad_idx=pad_idx)\n"
   ]
  },
  {
   "cell_type": "code",
   "execution_count": 106,
   "id": "54395af1",
   "metadata": {},
   "outputs": [],
   "source": [
    "\n",
    "loss_fn = nn.BCEWithLogitsLoss()\n",
    "\n",
    "optimizer = Adam(model.parameters(), lr=1e-3)\n",
    "\n",
    "oc_scheduler = OneCycleLR(optimizer=optimizer, max_lr=0.01,\n",
    "                          epochs=10, steps_per_epoch=len(train_loader))"
   ]
  },
  {
   "cell_type": "code",
   "execution_count": 107,
   "id": "588e159d-715e-4f9b-8324-edb6575e8ca8",
   "metadata": {},
   "outputs": [],
   "source": [
    "model.embedding.weight.data[:len(vectors)] = torch.from_numpy(vectors)"
   ]
  },
  {
   "cell_type": "code",
   "execution_count": 108,
   "id": "da7d306a-855f-45a9-a7a4-968dc4b13592",
   "metadata": {},
   "outputs": [
    {
     "data": {
      "image/png": "[encoded data removed]",
      "text/plain": [
       "<Figure size 1152x576 with 1 Axes>"
      ]
     },
     "metadata": {
      "needs_background": "light"
     },
     "output_type": "display_data"
    },
    {
     "data": {
      "image/png": "[encoded data removed]",
      "text/plain": [
       "<Figure size 1152x576 with 1 Axes>"
      ]
     },
     "metadata": {
      "needs_background": "light"
     },
     "output_type": "display_data"
    },
    {
     "data": {
      "image/png": "[encoded data removed]",
      "text/plain": [
       "<Figure size 1152x576 with 1 Axes>"
      ]
     },
     "metadata": {
      "needs_background": "light"
     },
     "output_type": "display_data"
    },
    {
     "name": "stderr",
     "output_type": "stream",
     "text": [
      "Train:   6%|▋         | 44/704 [00:08<02:03,  5.36it/s]\n"
     ]
    },
    {
     "ename": "KeyboardInterrupt",
     "evalue": "",
     "output_type": "error",
     "traceback": [
      "\u001b[1;31m---------------------------------------------------------------------------\u001b[0m",
      "\u001b[1;31mKeyboardInterrupt\u001b[0m                         Traceback (most recent call last)",
      "\u001b[1;32m<ipython-input-108-c5ca2571d700>\u001b[0m in \u001b[0;36m<module>\u001b[1;34m\u001b[0m\n\u001b[1;32m----> 1\u001b[1;33m \u001b[0mwhole_train_valid_cycle\u001b[0m\u001b[1;33m(\u001b[0m\u001b[0mmodel\u001b[0m\u001b[1;33m,\u001b[0m \u001b[1;36m10\u001b[0m\u001b[1;33m,\u001b[0m \u001b[1;34m'Text CNN IMDB'\u001b[0m\u001b[1;33m)\u001b[0m\u001b[1;33m\u001b[0m\u001b[1;33m\u001b[0m\u001b[0m\n\u001b[0m",
      "\u001b[1;32m<ipython-input-70-161527333fbb>\u001b[0m in \u001b[0;36mwhole_train_valid_cycle\u001b[1;34m(model, num_epochs, title)\u001b[0m\n\u001b[0;32m      5\u001b[0m \u001b[1;33m\u001b[0m\u001b[0m\n\u001b[0;32m      6\u001b[0m     \u001b[1;32mfor\u001b[0m \u001b[0mepoch\u001b[0m \u001b[1;32min\u001b[0m \u001b[0mrange\u001b[0m\u001b[1;33m(\u001b[0m\u001b[0mnum_epochs\u001b[0m\u001b[1;33m)\u001b[0m\u001b[1;33m:\u001b[0m\u001b[1;33m\u001b[0m\u001b[1;33m\u001b[0m\u001b[0m\n\u001b[1;32m----> 7\u001b[1;33m         train_loss, train_accuracy, lrs = train(model, \n\u001b[0m\u001b[0;32m      8\u001b[0m                                                                    \u001b[0mtrain_loader\u001b[0m\u001b[1;33m,\u001b[0m\u001b[1;33m\u001b[0m\u001b[1;33m\u001b[0m\u001b[0m\n\u001b[0;32m      9\u001b[0m                                                                    \u001b[0moptimizer\u001b[0m\u001b[1;33m,\u001b[0m\u001b[1;33m\u001b[0m\u001b[1;33m\u001b[0m\u001b[0m\n",
      "\u001b[1;32m<ipython-input-21-4c11fdb6c72f>\u001b[0m in \u001b[0;36mtrain\u001b[1;34m(model, data_loader, optimizer, oc_scheduler, loss_fn)\u001b[0m\n\u001b[0;32m     31\u001b[0m         \u001b[0mtrain_accuracy\u001b[0m \u001b[1;33m+=\u001b[0m \u001b[0mbinary_accuracy\u001b[0m\u001b[1;33m(\u001b[0m\u001b[0moutput\u001b[0m\u001b[1;33m,\u001b[0m \u001b[0my\u001b[0m\u001b[1;33m)\u001b[0m\u001b[1;33m\u001b[0m\u001b[1;33m\u001b[0m\u001b[0m\n\u001b[0;32m     32\u001b[0m \u001b[1;33m\u001b[0m\u001b[0m\n\u001b[1;32m---> 33\u001b[1;33m         \u001b[0mloss\u001b[0m\u001b[1;33m.\u001b[0m\u001b[0mbackward\u001b[0m\u001b[1;33m(\u001b[0m\u001b[1;33m)\u001b[0m\u001b[1;33m\u001b[0m\u001b[1;33m\u001b[0m\u001b[0m\n\u001b[0m\u001b[0;32m     34\u001b[0m \u001b[1;33m\u001b[0m\u001b[0m\n\u001b[0;32m     35\u001b[0m         \u001b[0moptimizer\u001b[0m\u001b[1;33m.\u001b[0m\u001b[0mstep\u001b[0m\u001b[1;33m(\u001b[0m\u001b[1;33m)\u001b[0m\u001b[1;33m\u001b[0m\u001b[1;33m\u001b[0m\u001b[0m\n",
      "\u001b[1;32mc:\\ProgramData\\Anaconda3\\lib\\site-packages\\torch\\_tensor.py\u001b[0m in \u001b[0;36mbackward\u001b[1;34m(self, gradient, retain_graph, create_graph, inputs)\u001b[0m\n\u001b[0;32m    486\u001b[0m                 \u001b[0minputs\u001b[0m\u001b[1;33m=\u001b[0m\u001b[0minputs\u001b[0m\u001b[1;33m,\u001b[0m\u001b[1;33m\u001b[0m\u001b[1;33m\u001b[0m\u001b[0m\n\u001b[0;32m    487\u001b[0m             )\n\u001b[1;32m--> 488\u001b[1;33m         torch.autograd.backward(\n\u001b[0m\u001b[0;32m    489\u001b[0m             \u001b[0mself\u001b[0m\u001b[1;33m,\u001b[0m \u001b[0mgradient\u001b[0m\u001b[1;33m,\u001b[0m \u001b[0mretain_graph\u001b[0m\u001b[1;33m,\u001b[0m \u001b[0mcreate_graph\u001b[0m\u001b[1;33m,\u001b[0m \u001b[0minputs\u001b[0m\u001b[1;33m=\u001b[0m\u001b[0minputs\u001b[0m\u001b[1;33m\u001b[0m\u001b[1;33m\u001b[0m\u001b[0m\n\u001b[0;32m    490\u001b[0m         )\n",
      "\u001b[1;32mc:\\ProgramData\\Anaconda3\\lib\\site-packages\\torch\\autograd\\__init__.py\u001b[0m in \u001b[0;36mbackward\u001b[1;34m(tensors, grad_tensors, retain_graph, create_graph, grad_variables, inputs)\u001b[0m\n\u001b[0;32m    195\u001b[0m     \u001b[1;31m# some Python versions print out the first line of a multi-line function\u001b[0m\u001b[1;33m\u001b[0m\u001b[1;33m\u001b[0m\u001b[1;33m\u001b[0m\u001b[0m\n\u001b[0;32m    196\u001b[0m     \u001b[1;31m# calls in the traceback and some print out the last line\u001b[0m\u001b[1;33m\u001b[0m\u001b[1;33m\u001b[0m\u001b[1;33m\u001b[0m\u001b[0m\n\u001b[1;32m--> 197\u001b[1;33m     Variable._execution_engine.run_backward(  # Calls into the C++ engine to run the backward pass\n\u001b[0m\u001b[0;32m    198\u001b[0m         \u001b[0mtensors\u001b[0m\u001b[1;33m,\u001b[0m \u001b[0mgrad_tensors_\u001b[0m\u001b[1;33m,\u001b[0m \u001b[0mretain_graph\u001b[0m\u001b[1;33m,\u001b[0m \u001b[0mcreate_graph\u001b[0m\u001b[1;33m,\u001b[0m \u001b[0minputs\u001b[0m\u001b[1;33m,\u001b[0m\u001b[1;33m\u001b[0m\u001b[1;33m\u001b[0m\u001b[0m\n\u001b[0;32m    199\u001b[0m         allow_unreachable=True, accumulate_grad=True)  # Calls into the C++ engine to run the backward pass\n",
      "\u001b[1;31mKeyboardInterrupt\u001b[0m: "
     ]
    }
   ],
   "source": [
    "whole_train_valid_cycle(model, 10, 'Text CNN IMDB')"
   ]
  },
  {
   "cell_type": "code",
   "execution_count": 109,
   "id": "ba0dca41-8842-45da-bc29-a92291f20b9d",
   "metadata": {},
   "outputs": [],
   "source": [
    "@torch.inference_mode()\n",
    "def predict(model: nn.Module, loader: DataLoader, device: torch.device):\n",
    "    model.eval()\n",
    "    preds = []\n",
    "\n",
    "    for x, y in loader:\n",
    "        x, y = x.to(device), y.to(device)\n",
    "\n",
    "        output = model(x)\n",
    "\n",
    "        rounded_preds = torch.round(torch.sigmoid(output)).cpu()\n",
    "\n",
    "        preds.append(rounded_preds)\n",
    "\n",
    "    return torch.cat(preds)\n"
   ]
  },
  {
   "cell_type": "code",
   "execution_count": 110,
   "id": "3dbc9a20",
   "metadata": {},
   "outputs": [],
   "source": [
    "test = predict(model, test_loader, device)\n"
   ]
  },
  {
   "cell_type": "code",
   "execution_count": 111,
   "id": "621a0d7c",
   "metadata": {},
   "outputs": [],
   "source": [
    "torch.save(test.reshape([5000]), 'hw8.pt')\n"
   ]
  },
  {
   "cell_type": "code",
   "execution_count": null,
   "id": "969a1490",
   "metadata": {},
   "outputs": [],
   "source": []
  }
 ],
 "metadata": {
  "kernelspec": {
   "display_name": "Python 3 (ipykernel)",
   "language": "python",
   "name": "python3"
  },
  "language_info": {
   "codemirror_mode": {
    "name": "ipython",
    "version": 3
   },
   "file_extension": ".py",
   "mimetype": "text/x-python",
   "name": "python",
   "nbconvert_exporter": "python",
   "pygments_lexer": "ipython3",
   "version": "3.8.8"
  }
 },
 "nbformat": 4,
 "nbformat_minor": 5
}
