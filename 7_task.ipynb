{
 "cells": [
  {
   "cell_type": "code",
   "execution_count": 1,
   "metadata": {},
   "outputs": [],
   "source": [
    "# task 1\n",
    "\n",
    "class Triangle:\n",
    "    n_dots = 3\n",
    "\n",
    "    def __init__(self, a, b, c):\n",
    "        self.a = a\n",
    "        self.b = b\n",
    "        self.c = c\n",
    "\n",
    "\n",
    "tr_1 = Triangle(3, 4, 5)\n",
    "tr_2 = Triangle(6, 8, 10)\n"
   ]
  },
  {
   "cell_type": "code",
   "execution_count": 5,
   "metadata": {},
   "outputs": [],
   "source": [
    "# task 2\n",
    "\n",
    "class Triangle:\n",
    "    n_dots = 3\n",
    "\n",
    "    def __init__(self, a, b, c):\n",
    "        self.a = a\n",
    "        self.b = b\n",
    "        self.c = c\n",
    "        # triangle inequality condition\n",
    "        for i in (a, b, c):\n",
    "            arr = [a, b, c]\n",
    "            arr.remove(i)\n",
    "            if i > sum(arr):\n",
    "                raise ValueError('triangle inequality does not hold')\n",
    "    \n",
    "    def area(self):\n",
    "        p = (self.a + self.b + self.c) / 2\n",
    "        return (p * (p - self.a) * (p - self.b) * (p - self.c)) ** 0.5\n",
    "\n",
    "\n",
    "\n",
    "tr_1 = Triangle(3, 4, 5)\n",
    "tr_2 = Triangle(6, 8, 10)\n",
    "\n",
    "square_1 = tr_1.area()\n",
    "square_2 = tr_2.area()\n"
   ]
  },
  {
   "cell_type": "code",
   "execution_count": 6,
   "metadata": {},
   "outputs": [],
   "source": [
    "# task 3\n",
    "\n",
    "class Rectangle(Triangle):\n",
    "    n_dots = 4\n",
    "\n",
    "    def __init__(self, a, b):\n",
    "        self.a = a\n",
    "        self.b = b\n",
    "    \n",
    "    def area(self):\n",
    "        return self.a * self.b"
   ]
  },
  {
   "cell_type": "code",
   "execution_count": 8,
   "metadata": {},
   "outputs": [],
   "source": [
    "# task 4\n",
    "\n",
    "class BaseFigure:\n",
    "    n_dots = None\n",
    "    def area(self):\n",
    "        raise NotImplementedError()\n",
    "    \n",
    "    def validate(self):\n",
    "        raise NotImplementedError()\n",
    "    \n",
    "    def __init__(self):\n",
    "        self.validate()"
   ]
  },
  {
   "cell_type": "code",
   "execution_count": 37,
   "metadata": {},
   "outputs": [],
   "source": [
    "# task 6\n",
    "\n",
    "class Triangle(BaseFigure):\n",
    "    n_dots = 3\n",
    "\n",
    "    def area(self):\n",
    "        p = (self.a + self.b + self.c) / 2\n",
    "        return (p * (p - self.a) * (p - self.b) * (p - self.c)) ** 0.5\n",
    "    \n",
    "    def validate(self):\n",
    "        for i in (self.a, self.b, self.c):\n",
    "            arr = [self.a, self.b, self.c]\n",
    "            arr.remove(i)\n",
    "            if i > sum(arr):\n",
    "                raise ValueError('triangle inequality does not hold')\n",
    "        return self.a, self.b, self.c\n",
    "    \n",
    "    def __init__(self, a, b, c):\n",
    "        self.a = a\n",
    "        self.b = b\n",
    "        self.c = c\n",
    "        super().__init__()\n",
    "\n",
    "\n",
    "class Rectangle(BaseFigure):\n",
    "    n_dots = 4\n",
    "    \n",
    "    def area(self):\n",
    "        return self.a * self.b\n",
    "    \n",
    "    def validate(self):\n",
    "        return self.a, self.b\n",
    "\n",
    "    def __init__(self, a, b):\n",
    "        self.a = a\n",
    "        self.b = b\n",
    "        super().__init__()\n",
    "\n",
    "\n",
    "    \n"
   ]
  },
  {
   "cell_type": "code",
   "execution_count": 41,
   "metadata": {},
   "outputs": [],
   "source": [
    "#  task 7\n",
    "\n",
    "class Circle(BaseFigure):\n",
    "    n_dots = float('inf')\n",
    "\n",
    "    def area(self):\n",
    "        return 3.14 * self.r ** 2\n",
    "    \n",
    "    def validate(self):\n",
    "        pass\n",
    "\n",
    "    def __init__(self, r):\n",
    "        self.r = r\n",
    "        super().__init__()\n"
   ]
  },
  {
   "cell_type": "code",
   "execution_count": 25,
   "metadata": {},
   "outputs": [],
   "source": [
    "#task 8, 9, 10\n",
    "\n",
    "class Vector():\n",
    "    def __init__(self, coords):\n",
    "        self.coords = list(coords)\n",
    "    \n",
    "    def __add__(self, other):\n",
    "        if len(self.coords) == len(other.coords):\n",
    "            return Vector(i + j for i, j in zip(self.coords, other.coords))\n",
    "        else:\n",
    "            raise ValueError(f'left and right lengths differ: {len(self.coords)} != {len(other.coords)}')\n",
    "\n",
    "    def __str__(self):\n",
    "        return '[' + ', '.join(map(str, (self.coords))) + ']'\n",
    "    \n",
    "    def __mul__(self, other):\n",
    "        if isinstance(other, Vector):\n",
    "            if len(self.coords) == len(other.coords):\n",
    "                return Vector(i * j for i, j in zip(self.coords, other.coords))\n",
    "            else:\n",
    "                raise ValueError(\n",
    "                    f'left and right lengths differ: {len(self.coords)} != {len(other.coords)}')\n",
    "        elif isinstance(other, int):\n",
    "            return Vector(i * other for i in self.coords)\n"
   ]
  },
  {
   "cell_type": "code",
   "execution_count": 54,
   "metadata": {},
   "outputs": [],
   "source": [
    "#task 8, 9, 10, 11\n",
    "\n",
    "class Vector():\n",
    "    def __init__(self, coords):\n",
    "        self.coords = list(coords)\n",
    "\n",
    "    def __add__(self, other):\n",
    "        if len(self.coords) == len(other.coords):\n",
    "            return Vector(i + j for i, j in zip(self.coords, other.coords))\n",
    "        else:\n",
    "            raise ValueError(\n",
    "                f'left and right lengths differ: {len(self.coords)} != {len(other.coords)}')\n",
    "\n",
    "    def __str__(self):\n",
    "        return '[' + ', '.join(map(str, (self.coords))) + ']'\n",
    "\n",
    "    def __mul__(self, other):\n",
    "        if isinstance(other, Vector):\n",
    "            if len(self.coords) == len(other.coords):\n",
    "                return sum(i * j for i, j in zip(self.coords, other.coords))\n",
    "            else:\n",
    "                raise ValueError(\n",
    "                    f'left and right lengths differ: {len(self.coords)} != {len(other.coords)}')\n",
    "        elif isinstance(other, int):\n",
    "            return Vector(i * other for i in self.coords)\n",
    "\n",
    "    def __eq__(self, other):\n",
    "        if len(self.coords) != len(other.coords):\n",
    "            return False\n",
    "        elif list(i == j for i, j in zip(self.coords, other.coords)).count(False) > 0:\n",
    "            return False\n",
    "        else:\n",
    "            return True\n",
    "    \n",
    "    def __abs__(self):\n",
    "        return sum(map(lambda x: x ** 2, self.coords)) ** 0.5\n"
   ]
  },
  {
   "cell_type": "code",
   "execution_count": 61,
   "metadata": {},
   "outputs": [],
   "source": [
    "# task 12\n",
    "\n",
    "class ParsesCookies():\n",
    "\n",
    "    def cookies(self):\n",
    "        return self.request['cookies']\n",
    "\n",
    "    def is_authed(self):\n",
    "        return 'auth_key' in self.request['cookies'].keys()\n",
    "        \n",
    "\n",
    "class ParsesBody():\n",
    "    def body(self):\n",
    "        return self.request['body']\n",
    "\n",
    "class ParsesHeaders():\n",
    "    def headers(self):\n",
    "        return self.request['headers']\n",
    "\n",
    "    def need_json(self):\n",
    "        return self.request['headers'].get('content-type') == 'application/json'\n",
    "\n",
    "\n"
   ]
  },
  {
   "cell_type": "code",
   "execution_count": 86,
   "metadata": {},
   "outputs": [],
   "source": [
    "# task 13\n",
    "import json\n",
    "\n",
    "class JsonHandler(ParsesBody, ParsesHeaders):\n",
    "    def __init__(self, request):\n",
    "        self.request = request\n",
    "        #super().__init__()\n",
    "\n",
    "    def process(self):\n",
    "        if not self.need_json():\n",
    "            return None\n",
    "        try: # if we don't have 'body' in request, script will crash\n",
    "            return len(json.loads(self.body()).keys())\n",
    "        except:\n",
    "            return None\n"
   ]
  },
  {
   "cell_type": "code",
   "execution_count": 87,
   "metadata": {},
   "outputs": [
    {
     "name": "stdout",
     "output_type": "stream",
     "text": [
      "None\n"
     ]
    }
   ],
   "source": [
    "# Пример использования\n",
    "r = {\n",
    "     'headers': {'content-type': 'application/json'}\n",
    "     }\n",
    "print(JsonHandler(r).process())\n"
   ]
  },
  {
   "cell_type": "code",
   "execution_count": 91,
   "metadata": {},
   "outputs": [],
   "source": [
    "# task 14\n",
    "\n",
    "class SecureTextHandler(ParsesBody, ParsesHeaders, ParsesCookies):\n",
    "    def __init__(self, request):\n",
    "        self.request = request\n",
    "\n",
    "    def process(self):\n",
    "        if not self.is_authed():\n",
    "            return None\n",
    "        else:\n",
    "            return len(self.body())\n"
   ]
  },
  {
   "cell_type": "code",
   "execution_count": 92,
   "metadata": {},
   "outputs": [
    {
     "name": "stdout",
     "output_type": "stream",
     "text": [
      "5\n",
      "None\n"
     ]
    }
   ],
   "source": [
    "# Примеры\n",
    "r = {'cookies': {'auth_key': '123'},\n",
    "     'body': 'hello'\n",
    "     }\n",
    "print(SecureTextHandler(r).process())\n",
    "# 5\n",
    "\n",
    "r = {'cookies': {},\n",
    "     'body': 'hello'\n",
    "     }\n",
    "print(SecureTextHandler(r).process())\n",
    "# None\n"
   ]
  },
  {
   "cell_type": "code",
   "execution_count": null,
   "metadata": {},
   "outputs": [],
   "source": []
  }
 ],
 "metadata": {
  "kernelspec": {
   "display_name": "Python 3.8.8 ('base')",
   "language": "python",
   "name": "python3"
  },
  "language_info": {
   "codemirror_mode": {
    "name": "ipython",
    "version": 3
   },
   "file_extension": ".py",
   "mimetype": "text/x-python",
   "name": "python",
   "nbconvert_exporter": "python",
   "pygments_lexer": "ipython3",
   "version": "3.8.8"
  },
  "orig_nbformat": 4,
  "vscode": {
   "interpreter": {
    "hash": "ad2bdc8ecc057115af97d19610ffacc2b4e99fae6737bb82f5d7fb13d2f2c186"
   }
  }
 },
 "nbformat": 4,
 "nbformat_minor": 2
}
